{
 "cells": [
  {
   "cell_type": "code",
   "execution_count": 2,
   "metadata": {},
   "outputs": [],
   "source": [
    "#Импорт библиотек\n",
    "import pandas as pd\n",
    "import requests\n",
    "import numpy as np\n",
    "from datetime import datetime\n",
    "from datetime import timedelta\n",
    "\n",
    "\n",
    "%matplotlib inline\n",
    "import seaborn as sns\n",
    "import matplotlib.pyplot as plt\n",
    "import plotly.express as px"
   ]
  },
  {
   "cell_type": "markdown",
   "metadata": {},
   "source": [
    "Игнорируем warnings"
   ]
  },
  {
   "cell_type": "code",
   "execution_count": 3,
   "metadata": {},
   "outputs": [],
   "source": [
    "import warnings\n",
    "warnings.filterwarnings(\"ignore\")"
   ]
  },
  {
   "cell_type": "markdown",
   "metadata": {},
   "source": [
    "Загрузим необходимые файлы и проведем предварительный анализ данных"
   ]
  },
  {
   "cell_type": "code",
   "execution_count": 4,
   "metadata": {},
   "outputs": [],
   "source": [
    "olist_customers_datase = pd.read_csv('/mnt/HC_Volume_18315164/home-jupyter/jupyter-ev-saveleva/first_project/olist_customers_dataset.csv')"
   ]
  },
  {
   "cell_type": "markdown",
   "metadata": {},
   "source": [
    "Датафрейм с уникальными идентификаторами пользователей\n",
    "\n",
    "olist_customers_datase.csv — таблица с уникальными идентификаторами пользователей\n",
    "customer_id — позаказный идентификатор пользователя\n",
    "\n",
    "customer_unique_id —  уникальный идентификатор пользователя  (аналог номера паспорта)\n",
    "\n",
    "customer_zip_code_prefix —  почтовый индекс пользователя\n",
    "\n",
    "customer_city —  город доставки пользователя\n",
    "\n",
    "customer_state —  штат доставки пользователя"
   ]
  },
  {
   "cell_type": "code",
   "execution_count": 5,
   "metadata": {},
   "outputs": [
    {
     "data": {
      "text/html": [
       "<div>\n",
       "<style scoped>\n",
       "    .dataframe tbody tr th:only-of-type {\n",
       "        vertical-align: middle;\n",
       "    }\n",
       "\n",
       "    .dataframe tbody tr th {\n",
       "        vertical-align: top;\n",
       "    }\n",
       "\n",
       "    .dataframe thead th {\n",
       "        text-align: right;\n",
       "    }\n",
       "</style>\n",
       "<table border=\"1\" class=\"dataframe\">\n",
       "  <thead>\n",
       "    <tr style=\"text-align: right;\">\n",
       "      <th></th>\n",
       "      <th>customer_id</th>\n",
       "      <th>customer_unique_id</th>\n",
       "      <th>customer_zip_code_prefix</th>\n",
       "      <th>customer_city</th>\n",
       "      <th>customer_state</th>\n",
       "    </tr>\n",
       "  </thead>\n",
       "  <tbody>\n",
       "    <tr>\n",
       "      <th>0</th>\n",
       "      <td>06b8999e2fba1a1fbc88172c00ba8bc7</td>\n",
       "      <td>861eff4711a542e4b93843c6dd7febb0</td>\n",
       "      <td>14409</td>\n",
       "      <td>franca</td>\n",
       "      <td>SP</td>\n",
       "    </tr>\n",
       "  </tbody>\n",
       "</table>\n",
       "</div>"
      ],
      "text/plain": [
       "                        customer_id                customer_unique_id  \\\n",
       "0  06b8999e2fba1a1fbc88172c00ba8bc7  861eff4711a542e4b93843c6dd7febb0   \n",
       "\n",
       "   customer_zip_code_prefix customer_city customer_state  \n",
       "0                     14409        franca             SP  "
      ]
     },
     "execution_count": 5,
     "metadata": {},
     "output_type": "execute_result"
    }
   ],
   "source": [
    "olist_customers_datase.head(1)"
   ]
  },
  {
   "cell_type": "code",
   "execution_count": 6,
   "metadata": {},
   "outputs": [
    {
     "data": {
      "text/plain": [
       "customer_id                 0\n",
       "customer_unique_id          0\n",
       "customer_zip_code_prefix    0\n",
       "customer_city               0\n",
       "customer_state              0\n",
       "dtype: int64"
      ]
     },
     "execution_count": 6,
     "metadata": {},
     "output_type": "execute_result"
    }
   ],
   "source": [
    "olist_customers_datase.isna().sum()"
   ]
  },
  {
   "cell_type": "code",
   "execution_count": 7,
   "metadata": {},
   "outputs": [
    {
     "data": {
      "text/plain": [
       "(99441, 5)"
      ]
     },
     "execution_count": 7,
     "metadata": {},
     "output_type": "execute_result"
    }
   ],
   "source": [
    "olist_customers_datase.shape"
   ]
  },
  {
   "cell_type": "code",
   "execution_count": 8,
   "metadata": {},
   "outputs": [
    {
     "data": {
      "text/plain": [
       "customer_id                 object\n",
       "customer_unique_id          object\n",
       "customer_zip_code_prefix     int64\n",
       "customer_city               object\n",
       "customer_state              object\n",
       "dtype: object"
      ]
     },
     "execution_count": 8,
     "metadata": {},
     "output_type": "execute_result"
    }
   ],
   "source": [
    "olist_customers_datase.dtypes"
   ]
  },
  {
   "cell_type": "code",
   "execution_count": 9,
   "metadata": {
    "scrolled": true
   },
   "outputs": [
    {
     "data": {
      "text/html": [
       "<div>\n",
       "<style scoped>\n",
       "    .dataframe tbody tr th:only-of-type {\n",
       "        vertical-align: middle;\n",
       "    }\n",
       "\n",
       "    .dataframe tbody tr th {\n",
       "        vertical-align: top;\n",
       "    }\n",
       "\n",
       "    .dataframe thead th {\n",
       "        text-align: right;\n",
       "    }\n",
       "</style>\n",
       "<table border=\"1\" class=\"dataframe\">\n",
       "  <thead>\n",
       "    <tr style=\"text-align: right;\">\n",
       "      <th></th>\n",
       "      <th>customer_unique_id</th>\n",
       "      <th>number_of_orders</th>\n",
       "    </tr>\n",
       "  </thead>\n",
       "  <tbody>\n",
       "    <tr>\n",
       "      <th>52973</th>\n",
       "      <td>8d50f5eadf50201ccdcedfb9e2ac8455</td>\n",
       "      <td>17</td>\n",
       "    </tr>\n",
       "    <tr>\n",
       "      <th>23472</th>\n",
       "      <td>3e43e6105506432c953e165fb2acf44c</td>\n",
       "      <td>9</td>\n",
       "    </tr>\n",
       "    <tr>\n",
       "      <th>37797</th>\n",
       "      <td>6469f99c1f9dfae7733b25662e7f1782</td>\n",
       "      <td>7</td>\n",
       "    </tr>\n",
       "    <tr>\n",
       "      <th>76082</th>\n",
       "      <td>ca77025e7201e3b30c44b472ff346268</td>\n",
       "      <td>7</td>\n",
       "    </tr>\n",
       "    <tr>\n",
       "      <th>10354</th>\n",
       "      <td>1b6c7548a2a1f9037c1fd3ddfed95f33</td>\n",
       "      <td>7</td>\n",
       "    </tr>\n",
       "  </tbody>\n",
       "</table>\n",
       "</div>"
      ],
      "text/plain": [
       "                     customer_unique_id  number_of_orders\n",
       "52973  8d50f5eadf50201ccdcedfb9e2ac8455                17\n",
       "23472  3e43e6105506432c953e165fb2acf44c                 9\n",
       "37797  6469f99c1f9dfae7733b25662e7f1782                 7\n",
       "76082  ca77025e7201e3b30c44b472ff346268                 7\n",
       "10354  1b6c7548a2a1f9037c1fd3ddfed95f33                 7"
      ]
     },
     "execution_count": 9,
     "metadata": {},
     "output_type": "execute_result"
    }
   ],
   "source": [
    "olist_customers_datase.groupby('customer_unique_id', as_index=False) \\\n",
    "    .agg({'customer_id': 'count'}) \\\n",
    "    .sort_values('customer_id', ascending=False) \\\n",
    "    .rename(columns={'customer_id': 'number_of_orders'}) \\\n",
    "    .head(5)"
   ]
  },
  {
   "cell_type": "code",
   "execution_count": 10,
   "metadata": {},
   "outputs": [],
   "source": [
    "olist_orders_dataset = pd.read_csv('/mnt/HC_Volume_18315164/home-jupyter/jupyter-ev-saveleva/first_project/olist_orders_dataset.csv')"
   ]
  },
  {
   "cell_type": "markdown",
   "metadata": {},
   "source": [
    "Датафрейм с таблицей заказов\n",
    "\n",
    "olist_orders_dataset.csv —  таблица заказов\n",
    "order_id —  уникальный идентификатор заказа (номер чека)\n",
    "\n",
    "customer_id —  позаказный идентификатор пользователя\n",
    "\n",
    "order_status —  статус заказа\n",
    "\n",
    "order_purchase_timestamp —  время создания заказа\n",
    "\n",
    "order_approved_at —  время подтверждения оплаты заказа\n",
    "\n",
    "order_delivered_carrier_date —  время передачи заказа в логистическую службу\n",
    "\n",
    "order_delivered_customer_date —  время доставки заказа\n",
    "\n",
    "order_estimated_delivery_date —  обещанная дата доставки"
   ]
  },
  {
   "cell_type": "code",
   "execution_count": 11,
   "metadata": {},
   "outputs": [
    {
     "data": {
      "text/html": [
       "<div>\n",
       "<style scoped>\n",
       "    .dataframe tbody tr th:only-of-type {\n",
       "        vertical-align: middle;\n",
       "    }\n",
       "\n",
       "    .dataframe tbody tr th {\n",
       "        vertical-align: top;\n",
       "    }\n",
       "\n",
       "    .dataframe thead th {\n",
       "        text-align: right;\n",
       "    }\n",
       "</style>\n",
       "<table border=\"1\" class=\"dataframe\">\n",
       "  <thead>\n",
       "    <tr style=\"text-align: right;\">\n",
       "      <th></th>\n",
       "      <th>order_id</th>\n",
       "      <th>customer_id</th>\n",
       "      <th>order_status</th>\n",
       "      <th>order_purchase_timestamp</th>\n",
       "      <th>order_approved_at</th>\n",
       "      <th>order_delivered_carrier_date</th>\n",
       "      <th>order_delivered_customer_date</th>\n",
       "      <th>order_estimated_delivery_date</th>\n",
       "    </tr>\n",
       "  </thead>\n",
       "  <tbody>\n",
       "    <tr>\n",
       "      <th>0</th>\n",
       "      <td>e481f51cbdc54678b7cc49136f2d6af7</td>\n",
       "      <td>9ef432eb6251297304e76186b10a928d</td>\n",
       "      <td>delivered</td>\n",
       "      <td>2017-10-02 10:56:33</td>\n",
       "      <td>2017-10-02 11:07:15</td>\n",
       "      <td>2017-10-04 19:55:00</td>\n",
       "      <td>2017-10-10 21:25:13</td>\n",
       "      <td>2017-10-18 00:00:00</td>\n",
       "    </tr>\n",
       "  </tbody>\n",
       "</table>\n",
       "</div>"
      ],
      "text/plain": [
       "                           order_id                       customer_id  \\\n",
       "0  e481f51cbdc54678b7cc49136f2d6af7  9ef432eb6251297304e76186b10a928d   \n",
       "\n",
       "  order_status order_purchase_timestamp    order_approved_at  \\\n",
       "0    delivered      2017-10-02 10:56:33  2017-10-02 11:07:15   \n",
       "\n",
       "  order_delivered_carrier_date order_delivered_customer_date  \\\n",
       "0          2017-10-04 19:55:00           2017-10-10 21:25:13   \n",
       "\n",
       "  order_estimated_delivery_date  \n",
       "0           2017-10-18 00:00:00  "
      ]
     },
     "execution_count": 11,
     "metadata": {},
     "output_type": "execute_result"
    }
   ],
   "source": [
    "olist_orders_dataset.head(1)"
   ]
  },
  {
   "cell_type": "code",
   "execution_count": 12,
   "metadata": {},
   "outputs": [
    {
     "data": {
      "text/plain": [
       "order_id                            0\n",
       "customer_id                         0\n",
       "order_status                        0\n",
       "order_purchase_timestamp            0\n",
       "order_approved_at                 160\n",
       "order_delivered_carrier_date     1783\n",
       "order_delivered_customer_date    2965\n",
       "order_estimated_delivery_date       0\n",
       "dtype: int64"
      ]
     },
     "execution_count": 12,
     "metadata": {},
     "output_type": "execute_result"
    }
   ],
   "source": [
    "olist_orders_dataset.isna().sum()"
   ]
  },
  {
   "cell_type": "markdown",
   "metadata": {},
   "source": [
    "Пропущенные значения в колонках order_approved_at (время подтверждения оплаты заказа), order_delivered_carrier_date (время передачи заказа в логистическую службу), order_delivered_customer_date (время доставки заказа) объяснимы, так как:\n",
    "\n",
    "1.) Если есть пропуск в order_approved_at, это говорит о том, что пользователь мог положить товар(ы) в корзину, но потом передумал оплачивать заказ.\n",
    "\n",
    "2.) Если есть пропуск в order_delivered_carrier_date, это может означать, что заказ создан, но еще не передан курьеру.\n",
    "\n",
    "3.) Если есть пропуск в order_delivered_customer_date, это тоже логично, потому что заказ может быть еще в пути.\n",
    "\n",
    "Все аномалии с пропусками объяснимы."
   ]
  },
  {
   "cell_type": "code",
   "execution_count": 13,
   "metadata": {},
   "outputs": [
    {
     "data": {
      "text/plain": [
       "(99441, 8)"
      ]
     },
     "execution_count": 13,
     "metadata": {},
     "output_type": "execute_result"
    }
   ],
   "source": [
    "olist_orders_dataset.shape"
   ]
  },
  {
   "cell_type": "code",
   "execution_count": 14,
   "metadata": {},
   "outputs": [
    {
     "data": {
      "text/plain": [
       "order_id                         object\n",
       "customer_id                      object\n",
       "order_status                     object\n",
       "order_purchase_timestamp         object\n",
       "order_approved_at                object\n",
       "order_delivered_carrier_date     object\n",
       "order_delivered_customer_date    object\n",
       "order_estimated_delivery_date    object\n",
       "dtype: object"
      ]
     },
     "execution_count": 14,
     "metadata": {},
     "output_type": "execute_result"
    }
   ],
   "source": [
    "olist_orders_dataset.dtypes"
   ]
  },
  {
   "cell_type": "markdown",
   "metadata": {},
   "source": [
    "Переведем колонки, связанные со временем в тип данных datetime"
   ]
  },
  {
   "cell_type": "code",
   "execution_count": 15,
   "metadata": {},
   "outputs": [],
   "source": [
    "olist_orders_dataset.order_purchase_timestamp = pd.to_datetime(olist_orders_dataset.order_purchase_timestamp)\n",
    "olist_orders_dataset.order_approved_at = pd.to_datetime(olist_orders_dataset.order_approved_at)\n",
    "olist_orders_dataset.order_delivered_customer_date = pd.to_datetime(olist_orders_dataset.order_delivered_customer_date)\n",
    "olist_orders_dataset.order_delivered_carrier_date = pd.to_datetime(olist_orders_dataset.order_delivered_carrier_date)\n",
    "olist_orders_dataset.order_estimated_delivery_date = pd.to_datetime(olist_orders_dataset.order_estimated_delivery_date)"
   ]
  },
  {
   "cell_type": "code",
   "execution_count": 16,
   "metadata": {},
   "outputs": [
    {
     "data": {
      "text/plain": [
       "order_id                                 object\n",
       "customer_id                              object\n",
       "order_status                             object\n",
       "order_purchase_timestamp         datetime64[ns]\n",
       "order_approved_at                datetime64[ns]\n",
       "order_delivered_carrier_date     datetime64[ns]\n",
       "order_delivered_customer_date    datetime64[ns]\n",
       "order_estimated_delivery_date    datetime64[ns]\n",
       "dtype: object"
      ]
     },
     "execution_count": 16,
     "metadata": {},
     "output_type": "execute_result"
    }
   ],
   "source": [
    "olist_orders_dataset.dtypes"
   ]
  },
  {
   "cell_type": "markdown",
   "metadata": {},
   "source": [
    "Проверим, когда были совершены заказы, чтобы определить период, за который мы анализируем данные"
   ]
  },
  {
   "cell_type": "code",
   "execution_count": 17,
   "metadata": {
    "scrolled": true
   },
   "outputs": [
    {
     "data": {
      "text/html": [
       "<div>\n",
       "<style scoped>\n",
       "    .dataframe tbody tr th:only-of-type {\n",
       "        vertical-align: middle;\n",
       "    }\n",
       "\n",
       "    .dataframe tbody tr th {\n",
       "        vertical-align: top;\n",
       "    }\n",
       "\n",
       "    .dataframe thead th {\n",
       "        text-align: right;\n",
       "    }\n",
       "</style>\n",
       "<table border=\"1\" class=\"dataframe\">\n",
       "  <thead>\n",
       "    <tr style=\"text-align: right;\">\n",
       "      <th></th>\n",
       "      <th>order_purchase_timestamp</th>\n",
       "    </tr>\n",
       "  </thead>\n",
       "  <tbody>\n",
       "    <tr>\n",
       "      <th>count</th>\n",
       "      <td>99441</td>\n",
       "    </tr>\n",
       "    <tr>\n",
       "      <th>unique</th>\n",
       "      <td>98875</td>\n",
       "    </tr>\n",
       "    <tr>\n",
       "      <th>top</th>\n",
       "      <td>2018-03-31 15:08:21</td>\n",
       "    </tr>\n",
       "    <tr>\n",
       "      <th>freq</th>\n",
       "      <td>3</td>\n",
       "    </tr>\n",
       "    <tr>\n",
       "      <th>first</th>\n",
       "      <td>2016-09-04 21:15:19</td>\n",
       "    </tr>\n",
       "    <tr>\n",
       "      <th>last</th>\n",
       "      <td>2018-10-17 17:30:18</td>\n",
       "    </tr>\n",
       "  </tbody>\n",
       "</table>\n",
       "</div>"
      ],
      "text/plain": [
       "       order_purchase_timestamp\n",
       "count                     99441\n",
       "unique                    98875\n",
       "top         2018-03-31 15:08:21\n",
       "freq                          3\n",
       "first       2016-09-04 21:15:19\n",
       "last        2018-10-17 17:30:18"
      ]
     },
     "execution_count": 17,
     "metadata": {},
     "output_type": "execute_result"
    }
   ],
   "source": [
    "olist_orders_dataset[['order_purchase_timestamp']].describe()"
   ]
  },
  {
   "cell_type": "markdown",
   "metadata": {},
   "source": [
    "Итог: исследуем данные - с сентября 2016 по октябрь 2018"
   ]
  },
  {
   "cell_type": "markdown",
   "metadata": {},
   "source": [
    "Проверим сколько у нас каждого типа заказов"
   ]
  },
  {
   "cell_type": "code",
   "execution_count": 18,
   "metadata": {},
   "outputs": [
    {
     "data": {
      "text/plain": [
       "delivered      96478\n",
       "shipped         1107\n",
       "canceled         625\n",
       "unavailable      609\n",
       "invoiced         314\n",
       "processing       301\n",
       "created            5\n",
       "approved           2\n",
       "Name: order_status, dtype: int64"
      ]
     },
     "execution_count": 18,
     "metadata": {},
     "output_type": "execute_result"
    }
   ],
   "source": [
    "olist_orders_dataset.order_status.value_counts()"
   ]
  },
  {
   "cell_type": "markdown",
   "metadata": {},
   "source": [
    "Всего доставленных заказов - 96478, а все ли они оплачены?"
   ]
  },
  {
   "cell_type": "markdown",
   "metadata": {},
   "source": [
    "Мы можем считать заказ успешным, т.е. покупкой, если он доставлен (об этом нам говорит статус delivered в колонке order_status), а также оплачен (смотрим по наличию времени в колонке order_approved_at)"
   ]
  },
  {
   "cell_type": "code",
   "execution_count": 19,
   "metadata": {},
   "outputs": [
    {
     "data": {
      "text/plain": [
       "order_id                          0\n",
       "customer_id                       0\n",
       "order_status                      0\n",
       "order_purchase_timestamp          0\n",
       "order_approved_at                14\n",
       "order_delivered_carrier_date      2\n",
       "order_delivered_customer_date     8\n",
       "order_estimated_delivery_date     0\n",
       "dtype: int64"
      ]
     },
     "execution_count": 19,
     "metadata": {},
     "output_type": "execute_result"
    }
   ],
   "source": [
    "olist_orders_dataset.query('order_status==\"delivered\"').isna().sum()"
   ]
  },
  {
   "cell_type": "markdown",
   "metadata": {},
   "source": [
    "Есть пропущенные значения, что говорит об **ошибке в данных**:\n",
    "- если в order_approved_at пропуски, это противоречит со сформулированным определением покупки выше\n",
    "- также есть пропуски в order_delivered_carrier_date(время передачи заказа в логистическую службу) и в order_delivered_customer_date(время доставки заказа)\n",
    "\n",
    "Удаляем строки с пропусками:"
   ]
  },
  {
   "cell_type": "code",
   "execution_count": 20,
   "metadata": {},
   "outputs": [],
   "source": [
    "orders = olist_orders_dataset.query('order_status==\"delivered\"').dropna()"
   ]
  },
  {
   "cell_type": "code",
   "execution_count": 21,
   "metadata": {},
   "outputs": [
    {
     "data": {
      "text/plain": [
       "(96455, 8)"
      ]
     },
     "execution_count": 21,
     "metadata": {},
     "output_type": "execute_result"
    }
   ],
   "source": [
    "orders.shape"
   ]
  },
  {
   "cell_type": "markdown",
   "metadata": {},
   "source": [
    "Теперь в датафрейме orders находятся только те строки, которые считаются покупкой."
   ]
  },
  {
   "cell_type": "code",
   "execution_count": 22,
   "metadata": {},
   "outputs": [],
   "source": [
    "olist_order_items_dataset = pd.read_csv('/mnt/HC_Volume_18315164/home-jupyter/jupyter-ev-saveleva/first_project/olist_order_items_dataset.csv')"
   ]
  },
  {
   "cell_type": "markdown",
   "metadata": {},
   "source": [
    "Датафрейм с указанием товарных позиций, которые входят в заказы\n",
    "\n",
    "olist_order_items_dataset.csv —  товарные позиции, входящие в заказы\n",
    "order_id —  уникальный идентификатор заказа (номер чека)\n",
    "\n",
    "order_item_id —  идентификатор товара внутри одного заказа\n",
    "\n",
    "product_id —  ид товара (аналог штрихкода)\n",
    "\n",
    "seller_id — ид производителя товара\n",
    "\n",
    "shipping_limit_date —  максимальная дата доставки продавцом для передачи заказа партнеру по логистике\n",
    "\n",
    "price —  цена за единицу товара\n",
    "\n",
    "freight_value —  вес товара"
   ]
  },
  {
   "cell_type": "code",
   "execution_count": 23,
   "metadata": {},
   "outputs": [
    {
     "data": {
      "text/html": [
       "<div>\n",
       "<style scoped>\n",
       "    .dataframe tbody tr th:only-of-type {\n",
       "        vertical-align: middle;\n",
       "    }\n",
       "\n",
       "    .dataframe tbody tr th {\n",
       "        vertical-align: top;\n",
       "    }\n",
       "\n",
       "    .dataframe thead th {\n",
       "        text-align: right;\n",
       "    }\n",
       "</style>\n",
       "<table border=\"1\" class=\"dataframe\">\n",
       "  <thead>\n",
       "    <tr style=\"text-align: right;\">\n",
       "      <th></th>\n",
       "      <th>order_id</th>\n",
       "      <th>order_item_id</th>\n",
       "      <th>product_id</th>\n",
       "      <th>seller_id</th>\n",
       "      <th>shipping_limit_date</th>\n",
       "      <th>price</th>\n",
       "      <th>freight_value</th>\n",
       "    </tr>\n",
       "  </thead>\n",
       "  <tbody>\n",
       "    <tr>\n",
       "      <th>0</th>\n",
       "      <td>00010242fe8c5a6d1ba2dd792cb16214</td>\n",
       "      <td>1</td>\n",
       "      <td>4244733e06e7ecb4970a6e2683c13e61</td>\n",
       "      <td>48436dade18ac8b2bce089ec2a041202</td>\n",
       "      <td>2017-09-19 09:45:35</td>\n",
       "      <td>58.9</td>\n",
       "      <td>13.29</td>\n",
       "    </tr>\n",
       "  </tbody>\n",
       "</table>\n",
       "</div>"
      ],
      "text/plain": [
       "                           order_id  order_item_id  \\\n",
       "0  00010242fe8c5a6d1ba2dd792cb16214              1   \n",
       "\n",
       "                         product_id                         seller_id  \\\n",
       "0  4244733e06e7ecb4970a6e2683c13e61  48436dade18ac8b2bce089ec2a041202   \n",
       "\n",
       "   shipping_limit_date  price  freight_value  \n",
       "0  2017-09-19 09:45:35   58.9          13.29  "
      ]
     },
     "execution_count": 23,
     "metadata": {},
     "output_type": "execute_result"
    }
   ],
   "source": [
    "olist_order_items_dataset.head(1)"
   ]
  },
  {
   "cell_type": "markdown",
   "metadata": {},
   "source": [
    "Приведем максимальную дату доставки продавцом для передачи заказа партнеру по логистике к типу данных datetime"
   ]
  },
  {
   "cell_type": "code",
   "execution_count": 24,
   "metadata": {},
   "outputs": [],
   "source": [
    "olist_order_items_dataset.shipping_limit_date = pd.to_datetime(olist_order_items_dataset.shipping_limit_date)"
   ]
  },
  {
   "cell_type": "code",
   "execution_count": 25,
   "metadata": {},
   "outputs": [
    {
     "data": {
      "text/plain": [
       "order_id               0\n",
       "order_item_id          0\n",
       "product_id             0\n",
       "seller_id              0\n",
       "shipping_limit_date    0\n",
       "price                  0\n",
       "freight_value          0\n",
       "dtype: int64"
      ]
     },
     "execution_count": 25,
     "metadata": {},
     "output_type": "execute_result"
    }
   ],
   "source": [
    "olist_order_items_dataset.isna().sum()"
   ]
  },
  {
   "cell_type": "code",
   "execution_count": 26,
   "metadata": {},
   "outputs": [
    {
     "data": {
      "text/plain": [
       "(112650, 7)"
      ]
     },
     "execution_count": 26,
     "metadata": {},
     "output_type": "execute_result"
    }
   ],
   "source": [
    "olist_order_items_dataset.shape"
   ]
  },
  {
   "cell_type": "code",
   "execution_count": 27,
   "metadata": {},
   "outputs": [
    {
     "data": {
      "text/plain": [
       "order_id                       object\n",
       "order_item_id                   int64\n",
       "product_id                     object\n",
       "seller_id                      object\n",
       "shipping_limit_date    datetime64[ns]\n",
       "price                         float64\n",
       "freight_value                 float64\n",
       "dtype: object"
      ]
     },
     "execution_count": 27,
     "metadata": {},
     "output_type": "execute_result"
    }
   ],
   "source": [
    "olist_order_items_dataset.dtypes"
   ]
  },
  {
   "cell_type": "code",
   "execution_count": 28,
   "metadata": {},
   "outputs": [
    {
     "data": {
      "text/html": [
       "<div>\n",
       "<style scoped>\n",
       "    .dataframe tbody tr th:only-of-type {\n",
       "        vertical-align: middle;\n",
       "    }\n",
       "\n",
       "    .dataframe tbody tr th {\n",
       "        vertical-align: top;\n",
       "    }\n",
       "\n",
       "    .dataframe thead th {\n",
       "        text-align: right;\n",
       "    }\n",
       "</style>\n",
       "<table border=\"1\" class=\"dataframe\">\n",
       "  <thead>\n",
       "    <tr style=\"text-align: right;\">\n",
       "      <th></th>\n",
       "      <th>order_item_id</th>\n",
       "      <th>price</th>\n",
       "      <th>freight_value</th>\n",
       "    </tr>\n",
       "  </thead>\n",
       "  <tbody>\n",
       "    <tr>\n",
       "      <th>count</th>\n",
       "      <td>112650.000000</td>\n",
       "      <td>112650.000000</td>\n",
       "      <td>112650.000000</td>\n",
       "    </tr>\n",
       "    <tr>\n",
       "      <th>mean</th>\n",
       "      <td>1.197834</td>\n",
       "      <td>120.653739</td>\n",
       "      <td>19.990320</td>\n",
       "    </tr>\n",
       "    <tr>\n",
       "      <th>std</th>\n",
       "      <td>0.705124</td>\n",
       "      <td>183.633928</td>\n",
       "      <td>15.806405</td>\n",
       "    </tr>\n",
       "    <tr>\n",
       "      <th>min</th>\n",
       "      <td>1.000000</td>\n",
       "      <td>0.850000</td>\n",
       "      <td>0.000000</td>\n",
       "    </tr>\n",
       "    <tr>\n",
       "      <th>25%</th>\n",
       "      <td>1.000000</td>\n",
       "      <td>39.900000</td>\n",
       "      <td>13.080000</td>\n",
       "    </tr>\n",
       "    <tr>\n",
       "      <th>50%</th>\n",
       "      <td>1.000000</td>\n",
       "      <td>74.990000</td>\n",
       "      <td>16.260000</td>\n",
       "    </tr>\n",
       "    <tr>\n",
       "      <th>75%</th>\n",
       "      <td>1.000000</td>\n",
       "      <td>134.900000</td>\n",
       "      <td>21.150000</td>\n",
       "    </tr>\n",
       "    <tr>\n",
       "      <th>max</th>\n",
       "      <td>21.000000</td>\n",
       "      <td>6735.000000</td>\n",
       "      <td>409.680000</td>\n",
       "    </tr>\n",
       "  </tbody>\n",
       "</table>\n",
       "</div>"
      ],
      "text/plain": [
       "       order_item_id          price  freight_value\n",
       "count  112650.000000  112650.000000  112650.000000\n",
       "mean        1.197834     120.653739      19.990320\n",
       "std         0.705124     183.633928      15.806405\n",
       "min         1.000000       0.850000       0.000000\n",
       "25%         1.000000      39.900000      13.080000\n",
       "50%         1.000000      74.990000      16.260000\n",
       "75%         1.000000     134.900000      21.150000\n",
       "max        21.000000    6735.000000     409.680000"
      ]
     },
     "execution_count": 28,
     "metadata": {},
     "output_type": "execute_result"
    }
   ],
   "source": [
    "olist_order_items_dataset.describe()"
   ]
  },
  {
   "cell_type": "markdown",
   "metadata": {},
   "source": [
    "Проверим, есть ли у нас дублирующиеся строки?"
   ]
  },
  {
   "cell_type": "code",
   "execution_count": 29,
   "metadata": {},
   "outputs": [
    {
     "name": "stdout",
     "output_type": "stream",
     "text": [
      "0\n",
      "0\n",
      "0\n"
     ]
    }
   ],
   "source": [
    "print(olist_customers_datase.duplicated().sum())\n",
    "print(olist_orders_dataset.duplicated().sum())\n",
    "print(olist_order_items_dataset.duplicated().sum())"
   ]
  },
  {
   "cell_type": "markdown",
   "metadata": {},
   "source": [
    "Дублей нет"
   ]
  },
  {
   "cell_type": "markdown",
   "metadata": {},
   "source": [
    "**Сколько у нас пользователей, которые совершили покупку только один раз?**"
   ]
  },
  {
   "cell_type": "markdown",
   "metadata": {},
   "source": [
    "Чтобы посчитать количество пользователей, которые совершили покупку только один раз, нужно проверить нет ли в данных еще каких-либо аномалий."
   ]
  },
  {
   "cell_type": "code",
   "execution_count": 30,
   "metadata": {},
   "outputs": [
    {
     "data": {
      "text/plain": [
       "32"
      ]
     },
     "execution_count": 30,
     "metadata": {},
     "output_type": "execute_result"
    }
   ],
   "source": [
    "orders.query('order_delivered_carrier_date >= order_delivered_customer_date').count().iloc[0]"
   ]
  },
  {
   "cell_type": "markdown",
   "metadata": {},
   "source": [
    "Существуют 32 строки, в которых заказ был передан в логистическую службу, позже чем доставлен, что считается ошибкой, удалим эти строки."
   ]
  },
  {
   "cell_type": "code",
   "execution_count": 31,
   "metadata": {},
   "outputs": [],
   "source": [
    "orders = orders.query('order_delivered_carrier_date < order_delivered_customer_date')"
   ]
  },
  {
   "cell_type": "code",
   "execution_count": 32,
   "metadata": {},
   "outputs": [
    {
     "data": {
      "text/plain": [
       "(96423, 8)"
      ]
     },
     "execution_count": 32,
     "metadata": {},
     "output_type": "execute_result"
    }
   ],
   "source": [
    "orders.shape"
   ]
  },
  {
   "cell_type": "markdown",
   "metadata": {},
   "source": [
    "Проверим далее на аномалии, связанные со временем."
   ]
  },
  {
   "cell_type": "code",
   "execution_count": 33,
   "metadata": {},
   "outputs": [
    {
     "data": {
      "text/plain": [
       "0"
      ]
     },
     "execution_count": 33,
     "metadata": {},
     "output_type": "execute_result"
    }
   ],
   "source": [
    "orders.query('order_purchase_timestamp > order_approved_at').count()[0]"
   ]
  },
  {
   "cell_type": "code",
   "execution_count": 34,
   "metadata": {},
   "outputs": [
    {
     "data": {
      "text/plain": [
       "0"
      ]
     },
     "execution_count": 34,
     "metadata": {},
     "output_type": "execute_result"
    }
   ],
   "source": [
    "orders.query('order_purchase_timestamp > order_estimated_delivery_date').count()[0]"
   ]
  },
  {
   "cell_type": "markdown",
   "metadata": {},
   "source": [
    "Заказы, которые доставлялись позже, чем было запланировано"
   ]
  },
  {
   "cell_type": "code",
   "execution_count": 35,
   "metadata": {},
   "outputs": [
    {
     "data": {
      "text/plain": [
       "7825"
      ]
     },
     "execution_count": 35,
     "metadata": {},
     "output_type": "execute_result"
    }
   ],
   "source": [
    "orders.query('order_delivered_customer_date > order_estimated_delivery_date').count()[0]"
   ]
  },
  {
   "cell_type": "markdown",
   "metadata": {},
   "source": [
    "Это не ошибка, но бизнесу стоит задуматься о том, как он может автоматизировать, оптимировать логистическую службу."
   ]
  },
  {
   "cell_type": "markdown",
   "metadata": {},
   "source": [
    "Для того, чтобы ответить на вопрос о том, сколько у нас пользователей, которые совершили покупку только один раз, нам нужно к таблице с заказами присоединить таблицу с юзерами. Объединять будем по полю customer_id"
   ]
  },
  {
   "cell_type": "code",
   "execution_count": 36,
   "metadata": {},
   "outputs": [],
   "source": [
    "orders_only_one_order = orders.merge(olist_customers_datase, how='inner', on='customer_id')"
   ]
  },
  {
   "cell_type": "code",
   "execution_count": 37,
   "metadata": {},
   "outputs": [],
   "source": [
    "orders_only_one_order = orders_only_one_order.groupby('customer_unique_id', as_index=False) \\\n",
    "    .agg({'customer_id': 'count'}) \\\n",
    "    .sort_values('customer_id', ascending=False) \\\n",
    "    .rename(columns={'customer_id': 'count_orders'})"
   ]
  },
  {
   "cell_type": "code",
   "execution_count": 38,
   "metadata": {},
   "outputs": [
    {
     "data": {
      "text/plain": [
       "90512"
      ]
     },
     "execution_count": 38,
     "metadata": {},
     "output_type": "execute_result"
    }
   ],
   "source": [
    "orders_only_one_order.query('count_orders==1').shape[0]"
   ]
  },
  {
   "cell_type": "markdown",
   "metadata": {},
   "source": [
    "**Ответ на первое задание: 90512**\n",
    "\n",
    "Пользователей, которые совершили одну покупку гораздо больше остальных (лояльных) пользователей, это говорит о том, что у компании очень низкий retention, поэтому есть повод задуматься."
   ]
  },
  {
   "cell_type": "markdown",
   "metadata": {},
   "source": [
    "**Сколько заказов в месяц в среднем не доставляется по разным причинам (вывести детализацию по причинам)?**"
   ]
  },
  {
   "cell_type": "markdown",
   "metadata": {},
   "source": [
    "Причины, по которым заказ может быть не доставлен:\n",
    "   - статус 'unavailable'\n",
    "   - статус 'canceled'\n",
    "   - заказы с пустыми значениями, имеющие статус 'delivered', то есть наши ошибки"
   ]
  },
  {
   "cell_type": "markdown",
   "metadata": {},
   "source": [
    "Посчитаем, сколько у нас строк с ошибками в данных"
   ]
  },
  {
   "cell_type": "code",
   "execution_count": 39,
   "metadata": {},
   "outputs": [
    {
     "data": {
      "text/plain": [
       "23"
      ]
     },
     "execution_count": 39,
     "metadata": {},
     "output_type": "execute_result"
    }
   ],
   "source": [
    "olist_orders_dataset.query('order_status==\"delivered\"')\\\n",
    "    .isna()\\\n",
    "    .query('order_approved_at==True or order_delivered_carrier_date==True or order_delivered_customer_date')\\\n",
    "    .shape[0]"
   ]
  },
  {
   "cell_type": "markdown",
   "metadata": {},
   "source": [
    "Заберем индексты этих заказов, чтобы их статус с 'delivered' поменять на 'error'"
   ]
  },
  {
   "cell_type": "code",
   "execution_count": 40,
   "metadata": {},
   "outputs": [],
   "source": [
    "indexes = olist_orders_dataset.query('order_status==\"delivered\"')\\\n",
    "    .isna()\\\n",
    "    .query('order_approved_at==True or order_delivered_carrier_date==True or order_delivered_customer_date')\\\n",
    "    .order_status.index.tolist()"
   ]
  },
  {
   "cell_type": "code",
   "execution_count": 41,
   "metadata": {},
   "outputs": [],
   "source": [
    "olist_orders_dataset.at[indexes, 'order_status'] = 'errors'"
   ]
  },
  {
   "cell_type": "code",
   "execution_count": 42,
   "metadata": {},
   "outputs": [
    {
     "data": {
      "text/plain": [
       "(23, 8)"
      ]
     },
     "execution_count": 42,
     "metadata": {},
     "output_type": "execute_result"
    }
   ],
   "source": [
    "olist_orders_dataset.query('order_status==\"errors\"').shape"
   ]
  },
  {
   "cell_type": "code",
   "execution_count": 43,
   "metadata": {},
   "outputs": [],
   "source": [
    "not_delivered_orders = olist_orders_dataset.loc[olist_orders_dataset['order_status'].isin(['canceled','unavailable','errors'])]"
   ]
  },
  {
   "cell_type": "code",
   "execution_count": 44,
   "metadata": {},
   "outputs": [
    {
     "data": {
      "text/plain": [
       "(1257, 8)"
      ]
     },
     "execution_count": 44,
     "metadata": {},
     "output_type": "execute_result"
    }
   ],
   "source": [
    "not_delivered_orders.shape"
   ]
  },
  {
   "cell_type": "markdown",
   "metadata": {},
   "source": [
    "Нам нужно вычислить недоставленные заказы в среднем по месяцам, поэтому добавим колонку с нужным нам типом данным"
   ]
  },
  {
   "cell_type": "code",
   "execution_count": 45,
   "metadata": {},
   "outputs": [],
   "source": [
    "not_delivered_orders['month'] = not_delivered_orders['order_purchase_timestamp'].dt.to_period('M')"
   ]
  },
  {
   "cell_type": "code",
   "execution_count": 46,
   "metadata": {},
   "outputs": [
    {
     "data": {
      "text/html": [
       "<div>\n",
       "<style scoped>\n",
       "    .dataframe tbody tr th:only-of-type {\n",
       "        vertical-align: middle;\n",
       "    }\n",
       "\n",
       "    .dataframe tbody tr th {\n",
       "        vertical-align: top;\n",
       "    }\n",
       "\n",
       "    .dataframe thead th {\n",
       "        text-align: right;\n",
       "    }\n",
       "</style>\n",
       "<table border=\"1\" class=\"dataframe\">\n",
       "  <thead>\n",
       "    <tr style=\"text-align: right;\">\n",
       "      <th></th>\n",
       "      <th>order_id</th>\n",
       "      <th>customer_id</th>\n",
       "      <th>order_status</th>\n",
       "      <th>order_purchase_timestamp</th>\n",
       "      <th>order_approved_at</th>\n",
       "      <th>order_delivered_carrier_date</th>\n",
       "      <th>order_delivered_customer_date</th>\n",
       "      <th>order_estimated_delivery_date</th>\n",
       "      <th>month</th>\n",
       "    </tr>\n",
       "  </thead>\n",
       "  <tbody>\n",
       "    <tr>\n",
       "      <th>266</th>\n",
       "      <td>8e24261a7e58791d10cb1bf9da94df5c</td>\n",
       "      <td>64a254d30eed42cd0e6c36dddb88adf0</td>\n",
       "      <td>unavailable</td>\n",
       "      <td>2017-11-16 15:09:28</td>\n",
       "      <td>2017-11-16 15:26:57</td>\n",
       "      <td>NaT</td>\n",
       "      <td>NaT</td>\n",
       "      <td>2017-12-05</td>\n",
       "      <td>2017-11</td>\n",
       "    </tr>\n",
       "  </tbody>\n",
       "</table>\n",
       "</div>"
      ],
      "text/plain": [
       "                             order_id                       customer_id  \\\n",
       "266  8e24261a7e58791d10cb1bf9da94df5c  64a254d30eed42cd0e6c36dddb88adf0   \n",
       "\n",
       "    order_status order_purchase_timestamp   order_approved_at  \\\n",
       "266  unavailable      2017-11-16 15:09:28 2017-11-16 15:26:57   \n",
       "\n",
       "    order_delivered_carrier_date order_delivered_customer_date  \\\n",
       "266                          NaT                           NaT   \n",
       "\n",
       "    order_estimated_delivery_date    month  \n",
       "266                    2017-12-05  2017-11  "
      ]
     },
     "execution_count": 46,
     "metadata": {},
     "output_type": "execute_result"
    }
   ],
   "source": [
    "not_delivered_orders.head(1)"
   ]
  },
  {
   "cell_type": "code",
   "execution_count": 47,
   "metadata": {},
   "outputs": [],
   "source": [
    "not_delivered_orders = not_delivered_orders[['order_id', 'order_status', 'month']]"
   ]
  },
  {
   "cell_type": "code",
   "execution_count": 48,
   "metadata": {},
   "outputs": [],
   "source": [
    "not_delivered_orders_all = not_delivered_orders.groupby(['month', 'order_status'], as_index=False) \\\n",
    "    .agg({'order_id': 'count'}) \\\n",
    "    .rename(columns={'order_id': 'count_orders'})"
   ]
  },
  {
   "cell_type": "code",
   "execution_count": 49,
   "metadata": {},
   "outputs": [
    {
     "data": {
      "text/html": [
       "<div>\n",
       "<style scoped>\n",
       "    .dataframe tbody tr th:only-of-type {\n",
       "        vertical-align: middle;\n",
       "    }\n",
       "\n",
       "    .dataframe tbody tr th {\n",
       "        vertical-align: top;\n",
       "    }\n",
       "\n",
       "    .dataframe thead th {\n",
       "        text-align: right;\n",
       "    }\n",
       "</style>\n",
       "<table border=\"1\" class=\"dataframe\">\n",
       "  <thead>\n",
       "    <tr style=\"text-align: right;\">\n",
       "      <th></th>\n",
       "      <th>month</th>\n",
       "      <th>order_status</th>\n",
       "      <th>count_orders</th>\n",
       "    </tr>\n",
       "  </thead>\n",
       "  <tbody>\n",
       "    <tr>\n",
       "      <th>0</th>\n",
       "      <td>2016-09</td>\n",
       "      <td>canceled</td>\n",
       "      <td>2</td>\n",
       "    </tr>\n",
       "    <tr>\n",
       "      <th>1</th>\n",
       "      <td>2016-10</td>\n",
       "      <td>canceled</td>\n",
       "      <td>24</td>\n",
       "    </tr>\n",
       "    <tr>\n",
       "      <th>2</th>\n",
       "      <td>2016-10</td>\n",
       "      <td>unavailable</td>\n",
       "      <td>7</td>\n",
       "    </tr>\n",
       "    <tr>\n",
       "      <th>3</th>\n",
       "      <td>2017-01</td>\n",
       "      <td>canceled</td>\n",
       "      <td>3</td>\n",
       "    </tr>\n",
       "    <tr>\n",
       "      <th>4</th>\n",
       "      <td>2017-01</td>\n",
       "      <td>errors</td>\n",
       "      <td>2</td>\n",
       "    </tr>\n",
       "  </tbody>\n",
       "</table>\n",
       "</div>"
      ],
      "text/plain": [
       "     month order_status  count_orders\n",
       "0  2016-09     canceled             2\n",
       "1  2016-10     canceled            24\n",
       "2  2016-10  unavailable             7\n",
       "3  2017-01     canceled             3\n",
       "4  2017-01       errors             2"
      ]
     },
     "execution_count": 49,
     "metadata": {},
     "output_type": "execute_result"
    }
   ],
   "source": [
    "not_delivered_orders_all.head(5)"
   ]
  },
  {
   "cell_type": "code",
   "execution_count": 50,
   "metadata": {},
   "outputs": [
    {
     "data": {
      "text/plain": [
       "24.0"
      ]
     },
     "execution_count": 50,
     "metadata": {},
     "output_type": "execute_result"
    }
   ],
   "source": [
    "not_delivered_orders_all['count_orders'].mean().round()"
   ]
  },
  {
   "cell_type": "markdown",
   "metadata": {},
   "source": [
    "В среднем не доставляются 24 заказа в месяц"
   ]
  },
  {
   "cell_type": "markdown",
   "metadata": {},
   "source": [
    "А теперь перейдем к детализации:"
   ]
  },
  {
   "cell_type": "code",
   "execution_count": 51,
   "metadata": {},
   "outputs": [],
   "source": [
    "not_delivered_orders_all_mean = not_delivered_orders_all.groupby('order_status', as_index=False) \\\n",
    "                                            .agg({'count_orders' : 'mean'}) \\\n",
    "                                            .rename(columns={\"count_orders\": \"canceled_mean\"}).round()"
   ]
  },
  {
   "cell_type": "code",
   "execution_count": 52,
   "metadata": {},
   "outputs": [
    {
     "data": {
      "text/html": [
       "<div>\n",
       "<style scoped>\n",
       "    .dataframe tbody tr th:only-of-type {\n",
       "        vertical-align: middle;\n",
       "    }\n",
       "\n",
       "    .dataframe tbody tr th {\n",
       "        vertical-align: top;\n",
       "    }\n",
       "\n",
       "    .dataframe thead th {\n",
       "        text-align: right;\n",
       "    }\n",
       "</style>\n",
       "<table border=\"1\" class=\"dataframe\">\n",
       "  <thead>\n",
       "    <tr style=\"text-align: right;\">\n",
       "      <th></th>\n",
       "      <th>order_status</th>\n",
       "      <th>canceled_mean</th>\n",
       "    </tr>\n",
       "  </thead>\n",
       "  <tbody>\n",
       "    <tr>\n",
       "      <th>0</th>\n",
       "      <td>canceled</td>\n",
       "      <td>26.0</td>\n",
       "    </tr>\n",
       "    <tr>\n",
       "      <th>1</th>\n",
       "      <td>errors</td>\n",
       "      <td>3.0</td>\n",
       "    </tr>\n",
       "    <tr>\n",
       "      <th>2</th>\n",
       "      <td>unavailable</td>\n",
       "      <td>29.0</td>\n",
       "    </tr>\n",
       "  </tbody>\n",
       "</table>\n",
       "</div>"
      ],
      "text/plain": [
       "  order_status  canceled_mean\n",
       "0     canceled           26.0\n",
       "1       errors            3.0\n",
       "2  unavailable           29.0"
      ]
     },
     "execution_count": 52,
     "metadata": {},
     "output_type": "execute_result"
    }
   ],
   "source": [
    "not_delivered_orders_all_mean"
   ]
  },
  {
   "cell_type": "markdown",
   "metadata": {},
   "source": [
    " **Ответ: По причине отмен в среднем не доставляется 26 заказов. По причине недоступности заказов - 29.  По причине ошибок в данных - 3 заказа.**"
   ]
  },
  {
   "cell_type": "code",
   "execution_count": 53,
   "metadata": {},
   "outputs": [],
   "source": [
    "sns.set(rc={'figure.figsize':(16,9)}, style=\"whitegrid\")"
   ]
  },
  {
   "cell_type": "code",
   "execution_count": 54,
   "metadata": {},
   "outputs": [
    {
     "data": {
      "image/png": "[encoded data removed]",
      "text/plain": [
       "<Figure size 1152x648 with 1 Axes>"
      ]
     },
     "metadata": {},
     "output_type": "display_data"
    }
   ],
   "source": [
    "model = sns.barplot(data = not_delivered_orders_all, x=\"month\", y=\"count_orders\", hue = \"order_status\")\n",
    "model.set_xticklabels(model.get_xticklabels(), rotation=45, ha=\"right\")\n",
    "model.set(xlabel='Дата', ylabel='Количество заказов')\n",
    "plt.show()"
   ]
  },
  {
   "cell_type": "markdown",
   "metadata": {},
   "source": [
    "**По каждому товару определить, в какой день недели товар чаще всего покупается.**"
   ]
  },
  {
   "cell_type": "code",
   "execution_count": 55,
   "metadata": {},
   "outputs": [
    {
     "data": {
      "text/html": [
       "<div>\n",
       "<style scoped>\n",
       "    .dataframe tbody tr th:only-of-type {\n",
       "        vertical-align: middle;\n",
       "    }\n",
       "\n",
       "    .dataframe tbody tr th {\n",
       "        vertical-align: top;\n",
       "    }\n",
       "\n",
       "    .dataframe thead th {\n",
       "        text-align: right;\n",
       "    }\n",
       "</style>\n",
       "<table border=\"1\" class=\"dataframe\">\n",
       "  <thead>\n",
       "    <tr style=\"text-align: right;\">\n",
       "      <th></th>\n",
       "      <th>order_id</th>\n",
       "      <th>order_item_id</th>\n",
       "      <th>product_id</th>\n",
       "      <th>seller_id</th>\n",
       "      <th>shipping_limit_date</th>\n",
       "      <th>price</th>\n",
       "      <th>freight_value</th>\n",
       "    </tr>\n",
       "  </thead>\n",
       "  <tbody>\n",
       "    <tr>\n",
       "      <th>0</th>\n",
       "      <td>00010242fe8c5a6d1ba2dd792cb16214</td>\n",
       "      <td>1</td>\n",
       "      <td>4244733e06e7ecb4970a6e2683c13e61</td>\n",
       "      <td>48436dade18ac8b2bce089ec2a041202</td>\n",
       "      <td>2017-09-19 09:45:35</td>\n",
       "      <td>58.9</td>\n",
       "      <td>13.29</td>\n",
       "    </tr>\n",
       "  </tbody>\n",
       "</table>\n",
       "</div>"
      ],
      "text/plain": [
       "                           order_id  order_item_id  \\\n",
       "0  00010242fe8c5a6d1ba2dd792cb16214              1   \n",
       "\n",
       "                         product_id                         seller_id  \\\n",
       "0  4244733e06e7ecb4970a6e2683c13e61  48436dade18ac8b2bce089ec2a041202   \n",
       "\n",
       "  shipping_limit_date  price  freight_value  \n",
       "0 2017-09-19 09:45:35   58.9          13.29  "
      ]
     },
     "execution_count": 55,
     "metadata": {},
     "output_type": "execute_result"
    }
   ],
   "source": [
    "olist_order_items_dataset.head(1)"
   ]
  },
  {
   "cell_type": "code",
   "execution_count": 56,
   "metadata": {},
   "outputs": [],
   "source": [
    "orders_week = orders.merge(olist_order_items_dataset, how='left', on='order_id')"
   ]
  },
  {
   "cell_type": "markdown",
   "metadata": {},
   "source": [
    "В некоторых заказах, у нас не по одному товару:"
   ]
  },
  {
   "cell_type": "code",
   "execution_count": 57,
   "metadata": {},
   "outputs": [
    {
     "data": {
      "text/html": [
       "<div>\n",
       "<style scoped>\n",
       "    .dataframe tbody tr th:only-of-type {\n",
       "        vertical-align: middle;\n",
       "    }\n",
       "\n",
       "    .dataframe tbody tr th {\n",
       "        vertical-align: top;\n",
       "    }\n",
       "\n",
       "    .dataframe thead th {\n",
       "        text-align: right;\n",
       "    }\n",
       "</style>\n",
       "<table border=\"1\" class=\"dataframe\">\n",
       "  <thead>\n",
       "    <tr style=\"text-align: right;\">\n",
       "      <th></th>\n",
       "      <th>order_item_id</th>\n",
       "    </tr>\n",
       "    <tr>\n",
       "      <th>order_id</th>\n",
       "      <th></th>\n",
       "    </tr>\n",
       "  </thead>\n",
       "  <tbody>\n",
       "    <tr>\n",
       "      <th>8272b63d03f5f79c56e9e4120aec44ef</th>\n",
       "      <td>21</td>\n",
       "    </tr>\n",
       "    <tr>\n",
       "      <th>1b15974a0141d54e36626dca3fdc731a</th>\n",
       "      <td>20</td>\n",
       "    </tr>\n",
       "    <tr>\n",
       "      <th>ab14fdcfbe524636d65ee38360e22ce8</th>\n",
       "      <td>20</td>\n",
       "    </tr>\n",
       "    <tr>\n",
       "      <th>9ef13efd6949e4573a18964dd1bbe7f5</th>\n",
       "      <td>15</td>\n",
       "    </tr>\n",
       "    <tr>\n",
       "      <th>428a2f660dc84138d969ccd69a0ab6d5</th>\n",
       "      <td>15</td>\n",
       "    </tr>\n",
       "    <tr>\n",
       "      <th>...</th>\n",
       "      <td>...</td>\n",
       "    </tr>\n",
       "    <tr>\n",
       "      <th>5a0911d70c1f85d3bed0df1bf693a6dd</th>\n",
       "      <td>1</td>\n",
       "    </tr>\n",
       "    <tr>\n",
       "      <th>5a082b558a3798d3e36d93bfa8ca1eae</th>\n",
       "      <td>1</td>\n",
       "    </tr>\n",
       "    <tr>\n",
       "      <th>5a07264682e0b8fbb3f166edbbffc6e8</th>\n",
       "      <td>1</td>\n",
       "    </tr>\n",
       "    <tr>\n",
       "      <th>5a071192a28951b76774e5a760c8c9b7</th>\n",
       "      <td>1</td>\n",
       "    </tr>\n",
       "    <tr>\n",
       "      <th>fffe41c64501cc87c801fd61db3f6244</th>\n",
       "      <td>1</td>\n",
       "    </tr>\n",
       "  </tbody>\n",
       "</table>\n",
       "<p>98666 rows × 1 columns</p>\n",
       "</div>"
      ],
      "text/plain": [
       "                                  order_item_id\n",
       "order_id                                       \n",
       "8272b63d03f5f79c56e9e4120aec44ef             21\n",
       "1b15974a0141d54e36626dca3fdc731a             20\n",
       "ab14fdcfbe524636d65ee38360e22ce8             20\n",
       "9ef13efd6949e4573a18964dd1bbe7f5             15\n",
       "428a2f660dc84138d969ccd69a0ab6d5             15\n",
       "...                                         ...\n",
       "5a0911d70c1f85d3bed0df1bf693a6dd              1\n",
       "5a082b558a3798d3e36d93bfa8ca1eae              1\n",
       "5a07264682e0b8fbb3f166edbbffc6e8              1\n",
       "5a071192a28951b76774e5a760c8c9b7              1\n",
       "fffe41c64501cc87c801fd61db3f6244              1\n",
       "\n",
       "[98666 rows x 1 columns]"
      ]
     },
     "execution_count": 57,
     "metadata": {},
     "output_type": "execute_result"
    }
   ],
   "source": [
    "olist_order_items_dataset.groupby('order_id').agg({'order_item_id':'count'}).sort_values('order_item_id', ascending = False)"
   ]
  },
  {
   "cell_type": "code",
   "execution_count": 58,
   "metadata": {},
   "outputs": [],
   "source": [
    "orders_week['day_of_week'] = orders_week['order_purchase_timestamp'].dt.day_name()"
   ]
  },
  {
   "cell_type": "code",
   "execution_count": 59,
   "metadata": {},
   "outputs": [
    {
     "data": {
      "text/html": [
       "<div>\n",
       "<style scoped>\n",
       "    .dataframe tbody tr th:only-of-type {\n",
       "        vertical-align: middle;\n",
       "    }\n",
       "\n",
       "    .dataframe tbody tr th {\n",
       "        vertical-align: top;\n",
       "    }\n",
       "\n",
       "    .dataframe thead th {\n",
       "        text-align: right;\n",
       "    }\n",
       "</style>\n",
       "<table border=\"1\" class=\"dataframe\">\n",
       "  <thead>\n",
       "    <tr style=\"text-align: right;\">\n",
       "      <th></th>\n",
       "      <th>order_id</th>\n",
       "      <th>customer_id</th>\n",
       "      <th>order_status</th>\n",
       "      <th>order_purchase_timestamp</th>\n",
       "      <th>order_approved_at</th>\n",
       "      <th>order_delivered_carrier_date</th>\n",
       "      <th>order_delivered_customer_date</th>\n",
       "      <th>order_estimated_delivery_date</th>\n",
       "      <th>order_item_id</th>\n",
       "      <th>product_id</th>\n",
       "      <th>seller_id</th>\n",
       "      <th>shipping_limit_date</th>\n",
       "      <th>price</th>\n",
       "      <th>freight_value</th>\n",
       "      <th>day_of_week</th>\n",
       "    </tr>\n",
       "  </thead>\n",
       "  <tbody>\n",
       "    <tr>\n",
       "      <th>0</th>\n",
       "      <td>e481f51cbdc54678b7cc49136f2d6af7</td>\n",
       "      <td>9ef432eb6251297304e76186b10a928d</td>\n",
       "      <td>delivered</td>\n",
       "      <td>2017-10-02 10:56:33</td>\n",
       "      <td>2017-10-02 11:07:15</td>\n",
       "      <td>2017-10-04 19:55:00</td>\n",
       "      <td>2017-10-10 21:25:13</td>\n",
       "      <td>2017-10-18</td>\n",
       "      <td>1</td>\n",
       "      <td>87285b34884572647811a353c7ac498a</td>\n",
       "      <td>3504c0cb71d7fa48d967e0e4c94d59d9</td>\n",
       "      <td>2017-10-06 11:07:15</td>\n",
       "      <td>29.99</td>\n",
       "      <td>8.72</td>\n",
       "      <td>Monday</td>\n",
       "    </tr>\n",
       "  </tbody>\n",
       "</table>\n",
       "</div>"
      ],
      "text/plain": [
       "                           order_id                       customer_id  \\\n",
       "0  e481f51cbdc54678b7cc49136f2d6af7  9ef432eb6251297304e76186b10a928d   \n",
       "\n",
       "  order_status order_purchase_timestamp   order_approved_at  \\\n",
       "0    delivered      2017-10-02 10:56:33 2017-10-02 11:07:15   \n",
       "\n",
       "  order_delivered_carrier_date order_delivered_customer_date  \\\n",
       "0          2017-10-04 19:55:00           2017-10-10 21:25:13   \n",
       "\n",
       "  order_estimated_delivery_date  order_item_id  \\\n",
       "0                    2017-10-18              1   \n",
       "\n",
       "                         product_id                         seller_id  \\\n",
       "0  87285b34884572647811a353c7ac498a  3504c0cb71d7fa48d967e0e4c94d59d9   \n",
       "\n",
       "  shipping_limit_date  price  freight_value day_of_week  \n",
       "0 2017-10-06 11:07:15  29.99           8.72      Monday  "
      ]
     },
     "execution_count": 59,
     "metadata": {},
     "output_type": "execute_result"
    }
   ],
   "source": [
    "orders_week.head(1)"
   ]
  },
  {
   "cell_type": "code",
   "execution_count": 60,
   "metadata": {},
   "outputs": [],
   "source": [
    "orders_day_of_week = orders_week.groupby(['product_id', 'day_of_week'], as_index=False) \\\n",
    "    .agg({'order_id': 'count'}) \\\n",
    "    .sort_values('order_id', ascending=False)"
   ]
  },
  {
   "cell_type": "code",
   "execution_count": 61,
   "metadata": {},
   "outputs": [
    {
     "data": {
      "text/html": [
       "<div>\n",
       "<style scoped>\n",
       "    .dataframe tbody tr th:only-of-type {\n",
       "        vertical-align: middle;\n",
       "    }\n",
       "\n",
       "    .dataframe tbody tr th {\n",
       "        vertical-align: top;\n",
       "    }\n",
       "\n",
       "    .dataframe thead th {\n",
       "        text-align: right;\n",
       "    }\n",
       "</style>\n",
       "<table border=\"1\" class=\"dataframe\">\n",
       "  <thead>\n",
       "    <tr style=\"text-align: right;\">\n",
       "      <th></th>\n",
       "      <th>product_id</th>\n",
       "      <th>day_of_week</th>\n",
       "      <th>order_id</th>\n",
       "    </tr>\n",
       "  </thead>\n",
       "  <tbody>\n",
       "    <tr>\n",
       "      <th>15580</th>\n",
       "      <td>422879e10f46682990de24d770e7f83d</td>\n",
       "      <td>Wednesday</td>\n",
       "      <td>93</td>\n",
       "    </tr>\n",
       "    <tr>\n",
       "      <th>35719</th>\n",
       "      <td>99a4788cb24856965c36a24e339b6058</td>\n",
       "      <td>Monday</td>\n",
       "      <td>91</td>\n",
       "    </tr>\n",
       "    <tr>\n",
       "      <th>40148</th>\n",
       "      <td>aca2eb7d00ea1a7b8ebd4e68314663af</td>\n",
       "      <td>Thursday</td>\n",
       "      <td>89</td>\n",
       "    </tr>\n",
       "    <tr>\n",
       "      <th>40149</th>\n",
       "      <td>aca2eb7d00ea1a7b8ebd4e68314663af</td>\n",
       "      <td>Tuesday</td>\n",
       "      <td>85</td>\n",
       "    </tr>\n",
       "    <tr>\n",
       "      <th>40144</th>\n",
       "      <td>aca2eb7d00ea1a7b8ebd4e68314663af</td>\n",
       "      <td>Friday</td>\n",
       "      <td>83</td>\n",
       "    </tr>\n",
       "    <tr>\n",
       "      <th>...</th>\n",
       "      <td>...</td>\n",
       "      <td>...</td>\n",
       "      <td>...</td>\n",
       "    </tr>\n",
       "    <tr>\n",
       "      <th>23476</th>\n",
       "      <td>641aef802951b7cb93574143819fac79</td>\n",
       "      <td>Saturday</td>\n",
       "      <td>1</td>\n",
       "    </tr>\n",
       "    <tr>\n",
       "      <th>23477</th>\n",
       "      <td>641aef802951b7cb93574143819fac79</td>\n",
       "      <td>Sunday</td>\n",
       "      <td>1</td>\n",
       "    </tr>\n",
       "    <tr>\n",
       "      <th>23479</th>\n",
       "      <td>6421588f55f75de28cb3357e07723d14</td>\n",
       "      <td>Monday</td>\n",
       "      <td>1</td>\n",
       "    </tr>\n",
       "    <tr>\n",
       "      <th>23480</th>\n",
       "      <td>6421588f55f75de28cb3357e07723d14</td>\n",
       "      <td>Saturday</td>\n",
       "      <td>1</td>\n",
       "    </tr>\n",
       "    <tr>\n",
       "      <th>59903</th>\n",
       "      <td>fffe9eeff12fcbd74a2f2b007dde0c58</td>\n",
       "      <td>Wednesday</td>\n",
       "      <td>1</td>\n",
       "    </tr>\n",
       "  </tbody>\n",
       "</table>\n",
       "<p>59904 rows × 3 columns</p>\n",
       "</div>"
      ],
      "text/plain": [
       "                             product_id day_of_week  order_id\n",
       "15580  422879e10f46682990de24d770e7f83d   Wednesday        93\n",
       "35719  99a4788cb24856965c36a24e339b6058      Monday        91\n",
       "40148  aca2eb7d00ea1a7b8ebd4e68314663af    Thursday        89\n",
       "40149  aca2eb7d00ea1a7b8ebd4e68314663af     Tuesday        85\n",
       "40144  aca2eb7d00ea1a7b8ebd4e68314663af      Friday        83\n",
       "...                                 ...         ...       ...\n",
       "23476  641aef802951b7cb93574143819fac79    Saturday         1\n",
       "23477  641aef802951b7cb93574143819fac79      Sunday         1\n",
       "23479  6421588f55f75de28cb3357e07723d14      Monday         1\n",
       "23480  6421588f55f75de28cb3357e07723d14    Saturday         1\n",
       "59903  fffe9eeff12fcbd74a2f2b007dde0c58   Wednesday         1\n",
       "\n",
       "[59904 rows x 3 columns]"
      ]
     },
     "execution_count": 61,
     "metadata": {},
     "output_type": "execute_result"
    }
   ],
   "source": [
    "orders_day_of_week"
   ]
  },
  {
   "cell_type": "code",
   "execution_count": 62,
   "metadata": {
    "scrolled": true
   },
   "outputs": [
    {
     "data": {
      "text/html": [
       "<div>\n",
       "<style scoped>\n",
       "    .dataframe tbody tr th:only-of-type {\n",
       "        vertical-align: middle;\n",
       "    }\n",
       "\n",
       "    .dataframe tbody tr th {\n",
       "        vertical-align: top;\n",
       "    }\n",
       "\n",
       "    .dataframe thead th {\n",
       "        text-align: right;\n",
       "    }\n",
       "</style>\n",
       "<table border=\"1\" class=\"dataframe\">\n",
       "  <thead>\n",
       "    <tr style=\"text-align: right;\">\n",
       "      <th></th>\n",
       "      <th>product_id</th>\n",
       "      <th>day_of_week</th>\n",
       "      <th>order_id</th>\n",
       "    </tr>\n",
       "  </thead>\n",
       "  <tbody>\n",
       "    <tr>\n",
       "      <th>15580</th>\n",
       "      <td>422879e10f46682990de24d770e7f83d</td>\n",
       "      <td>Wednesday</td>\n",
       "      <td>93</td>\n",
       "    </tr>\n",
       "    <tr>\n",
       "      <th>35719</th>\n",
       "      <td>99a4788cb24856965c36a24e339b6058</td>\n",
       "      <td>Monday</td>\n",
       "      <td>91</td>\n",
       "    </tr>\n",
       "    <tr>\n",
       "      <th>40148</th>\n",
       "      <td>aca2eb7d00ea1a7b8ebd4e68314663af</td>\n",
       "      <td>Thursday</td>\n",
       "      <td>89</td>\n",
       "    </tr>\n",
       "    <tr>\n",
       "      <th>19688</th>\n",
       "      <td>53b36df67ebb7c41585e8d54d6772e08</td>\n",
       "      <td>Tuesday</td>\n",
       "      <td>76</td>\n",
       "    </tr>\n",
       "    <tr>\n",
       "      <th>13255</th>\n",
       "      <td>389d119b48cf3043d311335e499d9c6b</td>\n",
       "      <td>Thursday</td>\n",
       "      <td>67</td>\n",
       "    </tr>\n",
       "    <tr>\n",
       "      <th>...</th>\n",
       "      <td>...</td>\n",
       "      <td>...</td>\n",
       "      <td>...</td>\n",
       "    </tr>\n",
       "    <tr>\n",
       "      <th>55276</th>\n",
       "      <td>eced39e6c33db4b865ea46d12dde67d8</td>\n",
       "      <td>Monday</td>\n",
       "      <td>1</td>\n",
       "    </tr>\n",
       "    <tr>\n",
       "      <th>42020</th>\n",
       "      <td>b4710f5c669c6820baa19c6c83c387ef</td>\n",
       "      <td>Saturday</td>\n",
       "      <td>1</td>\n",
       "    </tr>\n",
       "    <tr>\n",
       "      <th>42019</th>\n",
       "      <td>b46df49597c48fda458171cd058059c4</td>\n",
       "      <td>Saturday</td>\n",
       "      <td>1</td>\n",
       "    </tr>\n",
       "    <tr>\n",
       "      <th>42018</th>\n",
       "      <td>b469675b10244fe989f232d3b38b41f4</td>\n",
       "      <td>Wednesday</td>\n",
       "      <td>1</td>\n",
       "    </tr>\n",
       "    <tr>\n",
       "      <th>59903</th>\n",
       "      <td>fffe9eeff12fcbd74a2f2b007dde0c58</td>\n",
       "      <td>Wednesday</td>\n",
       "      <td>1</td>\n",
       "    </tr>\n",
       "  </tbody>\n",
       "</table>\n",
       "<p>32195 rows × 3 columns</p>\n",
       "</div>"
      ],
      "text/plain": [
       "                             product_id day_of_week  order_id\n",
       "15580  422879e10f46682990de24d770e7f83d   Wednesday        93\n",
       "35719  99a4788cb24856965c36a24e339b6058      Monday        91\n",
       "40148  aca2eb7d00ea1a7b8ebd4e68314663af    Thursday        89\n",
       "19688  53b36df67ebb7c41585e8d54d6772e08     Tuesday        76\n",
       "13255  389d119b48cf3043d311335e499d9c6b    Thursday        67\n",
       "...                                 ...         ...       ...\n",
       "55276  eced39e6c33db4b865ea46d12dde67d8      Monday         1\n",
       "42020  b4710f5c669c6820baa19c6c83c387ef    Saturday         1\n",
       "42019  b46df49597c48fda458171cd058059c4    Saturday         1\n",
       "42018  b469675b10244fe989f232d3b38b41f4   Wednesday         1\n",
       "59903  fffe9eeff12fcbd74a2f2b007dde0c58   Wednesday         1\n",
       "\n",
       "[32195 rows x 3 columns]"
      ]
     },
     "execution_count": 62,
     "metadata": {},
     "output_type": "execute_result"
    }
   ],
   "source": [
    "orders_day_of_week_without_duplicates = orders_day_of_week.drop_duplicates(subset = \"product_id\" ).sort_values('order_id', ascending = False)\n",
    "orders_day_of_week_without_duplicates"
   ]
  },
  {
   "cell_type": "markdown",
   "metadata": {},
   "source": [
    "**Результирующий датасет записан в orders_day_of_week_without_duplicates**"
   ]
  },
  {
   "cell_type": "markdown",
   "metadata": {},
   "source": [
    "**Сколько у каждого из пользователей в среднем покупок в неделю (по месяцам)?**"
   ]
  },
  {
   "cell_type": "code",
   "execution_count": 63,
   "metadata": {},
   "outputs": [
    {
     "data": {
      "text/html": [
       "<div>\n",
       "<style scoped>\n",
       "    .dataframe tbody tr th:only-of-type {\n",
       "        vertical-align: middle;\n",
       "    }\n",
       "\n",
       "    .dataframe tbody tr th {\n",
       "        vertical-align: top;\n",
       "    }\n",
       "\n",
       "    .dataframe thead th {\n",
       "        text-align: right;\n",
       "    }\n",
       "</style>\n",
       "<table border=\"1\" class=\"dataframe\">\n",
       "  <thead>\n",
       "    <tr style=\"text-align: right;\">\n",
       "      <th></th>\n",
       "      <th>order_id</th>\n",
       "      <th>customer_id</th>\n",
       "      <th>order_status</th>\n",
       "      <th>order_purchase_timestamp</th>\n",
       "      <th>order_approved_at</th>\n",
       "      <th>order_delivered_carrier_date</th>\n",
       "      <th>order_delivered_customer_date</th>\n",
       "      <th>order_estimated_delivery_date</th>\n",
       "    </tr>\n",
       "  </thead>\n",
       "  <tbody>\n",
       "    <tr>\n",
       "      <th>0</th>\n",
       "      <td>e481f51cbdc54678b7cc49136f2d6af7</td>\n",
       "      <td>9ef432eb6251297304e76186b10a928d</td>\n",
       "      <td>delivered</td>\n",
       "      <td>2017-10-02 10:56:33</td>\n",
       "      <td>2017-10-02 11:07:15</td>\n",
       "      <td>2017-10-04 19:55:00</td>\n",
       "      <td>2017-10-10 21:25:13</td>\n",
       "      <td>2017-10-18</td>\n",
       "    </tr>\n",
       "  </tbody>\n",
       "</table>\n",
       "</div>"
      ],
      "text/plain": [
       "                           order_id                       customer_id  \\\n",
       "0  e481f51cbdc54678b7cc49136f2d6af7  9ef432eb6251297304e76186b10a928d   \n",
       "\n",
       "  order_status order_purchase_timestamp   order_approved_at  \\\n",
       "0    delivered      2017-10-02 10:56:33 2017-10-02 11:07:15   \n",
       "\n",
       "  order_delivered_carrier_date order_delivered_customer_date  \\\n",
       "0          2017-10-04 19:55:00           2017-10-10 21:25:13   \n",
       "\n",
       "  order_estimated_delivery_date  \n",
       "0                    2017-10-18  "
      ]
     },
     "execution_count": 63,
     "metadata": {},
     "output_type": "execute_result"
    }
   ],
   "source": [
    "orders.head(1)"
   ]
  },
  {
   "cell_type": "code",
   "execution_count": 64,
   "metadata": {},
   "outputs": [
    {
     "data": {
      "text/plain": [
       "(96423, 8)"
      ]
     },
     "execution_count": 64,
     "metadata": {},
     "output_type": "execute_result"
    }
   ],
   "source": [
    "orders.shape"
   ]
  },
  {
   "cell_type": "code",
   "execution_count": 65,
   "metadata": {},
   "outputs": [
    {
     "data": {
      "text/html": [
       "<div>\n",
       "<style scoped>\n",
       "    .dataframe tbody tr th:only-of-type {\n",
       "        vertical-align: middle;\n",
       "    }\n",
       "\n",
       "    .dataframe tbody tr th {\n",
       "        vertical-align: top;\n",
       "    }\n",
       "\n",
       "    .dataframe thead th {\n",
       "        text-align: right;\n",
       "    }\n",
       "</style>\n",
       "<table border=\"1\" class=\"dataframe\">\n",
       "  <thead>\n",
       "    <tr style=\"text-align: right;\">\n",
       "      <th></th>\n",
       "      <th>customer_id</th>\n",
       "      <th>customer_unique_id</th>\n",
       "      <th>customer_zip_code_prefix</th>\n",
       "      <th>customer_city</th>\n",
       "      <th>customer_state</th>\n",
       "    </tr>\n",
       "  </thead>\n",
       "  <tbody>\n",
       "    <tr>\n",
       "      <th>0</th>\n",
       "      <td>06b8999e2fba1a1fbc88172c00ba8bc7</td>\n",
       "      <td>861eff4711a542e4b93843c6dd7febb0</td>\n",
       "      <td>14409</td>\n",
       "      <td>franca</td>\n",
       "      <td>SP</td>\n",
       "    </tr>\n",
       "  </tbody>\n",
       "</table>\n",
       "</div>"
      ],
      "text/plain": [
       "                        customer_id                customer_unique_id  \\\n",
       "0  06b8999e2fba1a1fbc88172c00ba8bc7  861eff4711a542e4b93843c6dd7febb0   \n",
       "\n",
       "   customer_zip_code_prefix customer_city customer_state  \n",
       "0                     14409        franca             SP  "
      ]
     },
     "execution_count": 65,
     "metadata": {},
     "output_type": "execute_result"
    }
   ],
   "source": [
    "olist_customers_datase.head(1)"
   ]
  },
  {
   "cell_type": "code",
   "execution_count": 66,
   "metadata": {},
   "outputs": [
    {
     "data": {
      "text/plain": [
       "(99441, 5)"
      ]
     },
     "execution_count": 66,
     "metadata": {},
     "output_type": "execute_result"
    }
   ],
   "source": [
    "olist_customers_datase.shape"
   ]
  },
  {
   "cell_type": "code",
   "execution_count": 67,
   "metadata": {},
   "outputs": [],
   "source": [
    "df_users_orders = orders.merge(olist_customers_datase, how='left', on='customer_id')"
   ]
  },
  {
   "cell_type": "code",
   "execution_count": 68,
   "metadata": {},
   "outputs": [
    {
     "data": {
      "text/plain": [
       "(96423, 12)"
      ]
     },
     "execution_count": 68,
     "metadata": {},
     "output_type": "execute_result"
    }
   ],
   "source": [
    "df_users_orders.shape"
   ]
  },
  {
   "cell_type": "code",
   "execution_count": 69,
   "metadata": {},
   "outputs": [
    {
     "data": {
      "text/html": [
       "<div>\n",
       "<style scoped>\n",
       "    .dataframe tbody tr th:only-of-type {\n",
       "        vertical-align: middle;\n",
       "    }\n",
       "\n",
       "    .dataframe tbody tr th {\n",
       "        vertical-align: top;\n",
       "    }\n",
       "\n",
       "    .dataframe thead th {\n",
       "        text-align: right;\n",
       "    }\n",
       "</style>\n",
       "<table border=\"1\" class=\"dataframe\">\n",
       "  <thead>\n",
       "    <tr style=\"text-align: right;\">\n",
       "      <th></th>\n",
       "      <th>order_id</th>\n",
       "      <th>customer_id</th>\n",
       "      <th>order_status</th>\n",
       "      <th>order_purchase_timestamp</th>\n",
       "      <th>order_approved_at</th>\n",
       "      <th>order_delivered_carrier_date</th>\n",
       "      <th>order_delivered_customer_date</th>\n",
       "      <th>order_estimated_delivery_date</th>\n",
       "      <th>customer_unique_id</th>\n",
       "      <th>customer_zip_code_prefix</th>\n",
       "      <th>customer_city</th>\n",
       "      <th>customer_state</th>\n",
       "    </tr>\n",
       "  </thead>\n",
       "  <tbody>\n",
       "    <tr>\n",
       "      <th>0</th>\n",
       "      <td>e481f51cbdc54678b7cc49136f2d6af7</td>\n",
       "      <td>9ef432eb6251297304e76186b10a928d</td>\n",
       "      <td>delivered</td>\n",
       "      <td>2017-10-02 10:56:33</td>\n",
       "      <td>2017-10-02 11:07:15</td>\n",
       "      <td>2017-10-04 19:55:00</td>\n",
       "      <td>2017-10-10 21:25:13</td>\n",
       "      <td>2017-10-18</td>\n",
       "      <td>7c396fd4830fd04220f754e42b4e5bff</td>\n",
       "      <td>3149</td>\n",
       "      <td>sao paulo</td>\n",
       "      <td>SP</td>\n",
       "    </tr>\n",
       "  </tbody>\n",
       "</table>\n",
       "</div>"
      ],
      "text/plain": [
       "                           order_id                       customer_id  \\\n",
       "0  e481f51cbdc54678b7cc49136f2d6af7  9ef432eb6251297304e76186b10a928d   \n",
       "\n",
       "  order_status order_purchase_timestamp   order_approved_at  \\\n",
       "0    delivered      2017-10-02 10:56:33 2017-10-02 11:07:15   \n",
       "\n",
       "  order_delivered_carrier_date order_delivered_customer_date  \\\n",
       "0          2017-10-04 19:55:00           2017-10-10 21:25:13   \n",
       "\n",
       "  order_estimated_delivery_date                customer_unique_id  \\\n",
       "0                    2017-10-18  7c396fd4830fd04220f754e42b4e5bff   \n",
       "\n",
       "   customer_zip_code_prefix customer_city customer_state  \n",
       "0                      3149     sao paulo             SP  "
      ]
     },
     "execution_count": 69,
     "metadata": {},
     "output_type": "execute_result"
    }
   ],
   "source": [
    "df_users_orders.head(1)"
   ]
  },
  {
   "cell_type": "markdown",
   "metadata": {},
   "source": [
    "Считаем количество недель в месяце:"
   ]
  },
  {
   "cell_type": "code",
   "execution_count": 70,
   "metadata": {},
   "outputs": [],
   "source": [
    "df_users_orders['weeks_on_months'] = df_users_orders\\\n",
    "                            .order_purchase_timestamp.dt.days_in_month/7"
   ]
  },
  {
   "cell_type": "markdown",
   "metadata": {},
   "source": [
    "Определяем дату заказа для дальнейшего определения количества заказов в месяце:"
   ]
  },
  {
   "cell_type": "code",
   "execution_count": 71,
   "metadata": {},
   "outputs": [],
   "source": [
    "df_users_orders['order_date'] = df_users_orders.order_purchase_timestamp.dt.date"
   ]
  },
  {
   "cell_type": "markdown",
   "metadata": {},
   "source": [
    "Определяем год-месяц заказа:"
   ]
  },
  {
   "cell_type": "code",
   "execution_count": 72,
   "metadata": {},
   "outputs": [],
   "source": [
    "df_users_orders['order_year_month'] = df_users_orders.order_purchase_timestamp.dt.strftime('%Y-%m')"
   ]
  },
  {
   "cell_type": "code",
   "execution_count": 73,
   "metadata": {},
   "outputs": [
    {
     "data": {
      "text/html": [
       "<div>\n",
       "<style scoped>\n",
       "    .dataframe tbody tr th:only-of-type {\n",
       "        vertical-align: middle;\n",
       "    }\n",
       "\n",
       "    .dataframe tbody tr th {\n",
       "        vertical-align: top;\n",
       "    }\n",
       "\n",
       "    .dataframe thead th {\n",
       "        text-align: right;\n",
       "    }\n",
       "</style>\n",
       "<table border=\"1\" class=\"dataframe\">\n",
       "  <thead>\n",
       "    <tr style=\"text-align: right;\">\n",
       "      <th></th>\n",
       "      <th>order_id</th>\n",
       "      <th>customer_id</th>\n",
       "      <th>order_status</th>\n",
       "      <th>order_purchase_timestamp</th>\n",
       "      <th>order_approved_at</th>\n",
       "      <th>order_delivered_carrier_date</th>\n",
       "      <th>order_delivered_customer_date</th>\n",
       "      <th>order_estimated_delivery_date</th>\n",
       "      <th>customer_unique_id</th>\n",
       "      <th>customer_zip_code_prefix</th>\n",
       "      <th>customer_city</th>\n",
       "      <th>customer_state</th>\n",
       "      <th>weeks_on_months</th>\n",
       "      <th>order_date</th>\n",
       "      <th>order_year_month</th>\n",
       "    </tr>\n",
       "  </thead>\n",
       "  <tbody>\n",
       "    <tr>\n",
       "      <th>0</th>\n",
       "      <td>e481f51cbdc54678b7cc49136f2d6af7</td>\n",
       "      <td>9ef432eb6251297304e76186b10a928d</td>\n",
       "      <td>delivered</td>\n",
       "      <td>2017-10-02 10:56:33</td>\n",
       "      <td>2017-10-02 11:07:15</td>\n",
       "      <td>2017-10-04 19:55:00</td>\n",
       "      <td>2017-10-10 21:25:13</td>\n",
       "      <td>2017-10-18</td>\n",
       "      <td>7c396fd4830fd04220f754e42b4e5bff</td>\n",
       "      <td>3149</td>\n",
       "      <td>sao paulo</td>\n",
       "      <td>SP</td>\n",
       "      <td>4.428571</td>\n",
       "      <td>2017-10-02</td>\n",
       "      <td>2017-10</td>\n",
       "    </tr>\n",
       "  </tbody>\n",
       "</table>\n",
       "</div>"
      ],
      "text/plain": [
       "                           order_id                       customer_id  \\\n",
       "0  e481f51cbdc54678b7cc49136f2d6af7  9ef432eb6251297304e76186b10a928d   \n",
       "\n",
       "  order_status order_purchase_timestamp   order_approved_at  \\\n",
       "0    delivered      2017-10-02 10:56:33 2017-10-02 11:07:15   \n",
       "\n",
       "  order_delivered_carrier_date order_delivered_customer_date  \\\n",
       "0          2017-10-04 19:55:00           2017-10-10 21:25:13   \n",
       "\n",
       "  order_estimated_delivery_date                customer_unique_id  \\\n",
       "0                    2017-10-18  7c396fd4830fd04220f754e42b4e5bff   \n",
       "\n",
       "   customer_zip_code_prefix customer_city customer_state  weeks_on_months  \\\n",
       "0                      3149     sao paulo             SP         4.428571   \n",
       "\n",
       "   order_date order_year_month  \n",
       "0  2017-10-02          2017-10  "
      ]
     },
     "execution_count": 73,
     "metadata": {},
     "output_type": "execute_result"
    }
   ],
   "source": [
    "df_users_orders.head(1)"
   ]
  },
  {
   "cell_type": "markdown",
   "metadata": {},
   "source": [
    "Сначала считаем количество покупок пользователя в день:"
   ]
  },
  {
   "cell_type": "code",
   "execution_count": 74,
   "metadata": {},
   "outputs": [],
   "source": [
    "df_as_day = df_users_orders\\\n",
    "    .groupby(['customer_unique_id','order_year_month','order_date','weeks_on_months'],as_index=False)\\\n",
    "    .agg({'order_id':'count'})\\\n",
    "    .rename(columns={'order_id':'orders_by_day'})"
   ]
  },
  {
   "cell_type": "code",
   "execution_count": 75,
   "metadata": {},
   "outputs": [
    {
     "data": {
      "text/html": [
       "<div>\n",
       "<style scoped>\n",
       "    .dataframe tbody tr th:only-of-type {\n",
       "        vertical-align: middle;\n",
       "    }\n",
       "\n",
       "    .dataframe tbody tr th {\n",
       "        vertical-align: top;\n",
       "    }\n",
       "\n",
       "    .dataframe thead th {\n",
       "        text-align: right;\n",
       "    }\n",
       "</style>\n",
       "<table border=\"1\" class=\"dataframe\">\n",
       "  <thead>\n",
       "    <tr style=\"text-align: right;\">\n",
       "      <th></th>\n",
       "      <th>customer_unique_id</th>\n",
       "      <th>order_year_month</th>\n",
       "      <th>order_date</th>\n",
       "      <th>weeks_on_months</th>\n",
       "      <th>orders_by_day</th>\n",
       "    </tr>\n",
       "  </thead>\n",
       "  <tbody>\n",
       "    <tr>\n",
       "      <th>0</th>\n",
       "      <td>0000366f3b9a7992bf8c76cfdf3221e2</td>\n",
       "      <td>2018-05</td>\n",
       "      <td>2018-05-10</td>\n",
       "      <td>4.428571</td>\n",
       "      <td>1</td>\n",
       "    </tr>\n",
       "  </tbody>\n",
       "</table>\n",
       "</div>"
      ],
      "text/plain": [
       "                 customer_unique_id order_year_month  order_date  \\\n",
       "0  0000366f3b9a7992bf8c76cfdf3221e2          2018-05  2018-05-10   \n",
       "\n",
       "   weeks_on_months  orders_by_day  \n",
       "0         4.428571              1  "
      ]
     },
     "execution_count": 75,
     "metadata": {},
     "output_type": "execute_result"
    }
   ],
   "source": [
    "df_as_day.head(1)"
   ]
  },
  {
   "cell_type": "markdown",
   "metadata": {},
   "source": [
    "Теперь посчитаем количество покупок в месяц для каждого пользователя"
   ]
  },
  {
   "cell_type": "code",
   "execution_count": 76,
   "metadata": {},
   "outputs": [],
   "source": [
    "df_as_month = df_as_day\\\n",
    "    .groupby(['customer_unique_id','order_year_month','order_date','weeks_on_months'],as_index = False)\\\n",
    "    .agg({'orders_by_day':'sum'})\\\n",
    "    .rename(columns={'orders_by_day':'orders_by_month'}).sort_values('orders_by_month',ascending = False)"
   ]
  },
  {
   "cell_type": "code",
   "execution_count": 77,
   "metadata": {},
   "outputs": [
    {
     "data": {
      "text/html": [
       "<div>\n",
       "<style scoped>\n",
       "    .dataframe tbody tr th:only-of-type {\n",
       "        vertical-align: middle;\n",
       "    }\n",
       "\n",
       "    .dataframe tbody tr th {\n",
       "        vertical-align: top;\n",
       "    }\n",
       "\n",
       "    .dataframe thead th {\n",
       "        text-align: right;\n",
       "    }\n",
       "</style>\n",
       "<table border=\"1\" class=\"dataframe\">\n",
       "  <thead>\n",
       "    <tr style=\"text-align: right;\">\n",
       "      <th></th>\n",
       "      <th>customer_unique_id</th>\n",
       "      <th>order_year_month</th>\n",
       "      <th>order_date</th>\n",
       "      <th>weeks_on_months</th>\n",
       "      <th>orders_by_month</th>\n",
       "    </tr>\n",
       "  </thead>\n",
       "  <tbody>\n",
       "    <tr>\n",
       "      <th>7119</th>\n",
       "      <td>12f5d6e1cbf93dafd9dcc19095df0b3d</td>\n",
       "      <td>2017-01</td>\n",
       "      <td>2017-01-05</td>\n",
       "      <td>4.428571</td>\n",
       "      <td>6</td>\n",
       "    </tr>\n",
       "    <tr>\n",
       "      <th>49299</th>\n",
       "      <td>83e7958a94bd7f74a9414d8782f87628</td>\n",
       "      <td>2017-01</td>\n",
       "      <td>2017-01-05</td>\n",
       "      <td>4.428571</td>\n",
       "      <td>4</td>\n",
       "    </tr>\n",
       "    <tr>\n",
       "      <th>17321</th>\n",
       "      <td>2e43e031f10de28e557c35ef668f9396</td>\n",
       "      <td>2017-01</td>\n",
       "      <td>2017-01-26</td>\n",
       "      <td>4.428571</td>\n",
       "      <td>3</td>\n",
       "    </tr>\n",
       "    <tr>\n",
       "      <th>86560</th>\n",
       "      <td>e78838df9c44e102b6ac84cc5eea7d5c</td>\n",
       "      <td>2017-02</td>\n",
       "      <td>2017-02-07</td>\n",
       "      <td>4.000000</td>\n",
       "      <td>3</td>\n",
       "    </tr>\n",
       "    <tr>\n",
       "      <th>66823</th>\n",
       "      <td>b2bd387fdc3cf05931f0f897d607dc88</td>\n",
       "      <td>2018-02</td>\n",
       "      <td>2018-02-27</td>\n",
       "      <td>4.000000</td>\n",
       "      <td>3</td>\n",
       "    </tr>\n",
       "  </tbody>\n",
       "</table>\n",
       "</div>"
      ],
      "text/plain": [
       "                     customer_unique_id order_year_month  order_date  \\\n",
       "7119   12f5d6e1cbf93dafd9dcc19095df0b3d          2017-01  2017-01-05   \n",
       "49299  83e7958a94bd7f74a9414d8782f87628          2017-01  2017-01-05   \n",
       "17321  2e43e031f10de28e557c35ef668f9396          2017-01  2017-01-26   \n",
       "86560  e78838df9c44e102b6ac84cc5eea7d5c          2017-02  2017-02-07   \n",
       "66823  b2bd387fdc3cf05931f0f897d607dc88          2018-02  2018-02-27   \n",
       "\n",
       "       weeks_on_months  orders_by_month  \n",
       "7119          4.428571                6  \n",
       "49299         4.428571                4  \n",
       "17321         4.428571                3  \n",
       "86560         4.000000                3  \n",
       "66823         4.000000                3  "
      ]
     },
     "execution_count": 77,
     "metadata": {},
     "output_type": "execute_result"
    }
   ],
   "source": [
    "df_as_month.head()"
   ]
  },
  {
   "cell_type": "markdown",
   "metadata": {},
   "source": [
    "Считаем среднее количество покупок в неделю все покупки месяца делим на количество недель"
   ]
  },
  {
   "cell_type": "code",
   "execution_count": 78,
   "metadata": {},
   "outputs": [],
   "source": [
    "df_as_month['avg_per_week'] = df_as_month.orders_by_month/df_as_month.weeks_on_months"
   ]
  },
  {
   "cell_type": "code",
   "execution_count": 79,
   "metadata": {},
   "outputs": [
    {
     "data": {
      "text/html": [
       "<div>\n",
       "<style scoped>\n",
       "    .dataframe tbody tr th:only-of-type {\n",
       "        vertical-align: middle;\n",
       "    }\n",
       "\n",
       "    .dataframe tbody tr th {\n",
       "        vertical-align: top;\n",
       "    }\n",
       "\n",
       "    .dataframe thead th {\n",
       "        text-align: right;\n",
       "    }\n",
       "</style>\n",
       "<table border=\"1\" class=\"dataframe\">\n",
       "  <thead>\n",
       "    <tr style=\"text-align: right;\">\n",
       "      <th></th>\n",
       "      <th>customer_unique_id</th>\n",
       "      <th>order_year_month</th>\n",
       "      <th>order_date</th>\n",
       "      <th>weeks_on_months</th>\n",
       "      <th>orders_by_month</th>\n",
       "      <th>avg_per_week</th>\n",
       "    </tr>\n",
       "  </thead>\n",
       "  <tbody>\n",
       "    <tr>\n",
       "      <th>7119</th>\n",
       "      <td>12f5d6e1cbf93dafd9dcc19095df0b3d</td>\n",
       "      <td>2017-01</td>\n",
       "      <td>2017-01-05</td>\n",
       "      <td>4.428571</td>\n",
       "      <td>6</td>\n",
       "      <td>1.354839</td>\n",
       "    </tr>\n",
       "    <tr>\n",
       "      <th>49299</th>\n",
       "      <td>83e7958a94bd7f74a9414d8782f87628</td>\n",
       "      <td>2017-01</td>\n",
       "      <td>2017-01-05</td>\n",
       "      <td>4.428571</td>\n",
       "      <td>4</td>\n",
       "      <td>0.903226</td>\n",
       "    </tr>\n",
       "    <tr>\n",
       "      <th>86560</th>\n",
       "      <td>e78838df9c44e102b6ac84cc5eea7d5c</td>\n",
       "      <td>2017-02</td>\n",
       "      <td>2017-02-07</td>\n",
       "      <td>4.000000</td>\n",
       "      <td>3</td>\n",
       "      <td>0.750000</td>\n",
       "    </tr>\n",
       "    <tr>\n",
       "      <th>66823</th>\n",
       "      <td>b2bd387fdc3cf05931f0f897d607dc88</td>\n",
       "      <td>2018-02</td>\n",
       "      <td>2018-02-27</td>\n",
       "      <td>4.000000</td>\n",
       "      <td>3</td>\n",
       "      <td>0.750000</td>\n",
       "    </tr>\n",
       "    <tr>\n",
       "      <th>34410</th>\n",
       "      <td>5bdb6f56a8fb4272b802f504bb6d1287</td>\n",
       "      <td>2018-02</td>\n",
       "      <td>2018-02-06</td>\n",
       "      <td>4.000000</td>\n",
       "      <td>3</td>\n",
       "      <td>0.750000</td>\n",
       "    </tr>\n",
       "    <tr>\n",
       "      <th>...</th>\n",
       "      <td>...</td>\n",
       "      <td>...</td>\n",
       "      <td>...</td>\n",
       "      <td>...</td>\n",
       "      <td>...</td>\n",
       "      <td>...</td>\n",
       "    </tr>\n",
       "    <tr>\n",
       "      <th>14889</th>\n",
       "      <td>27d59fe7ff2ed894f826fd4a7e5466ea</td>\n",
       "      <td>2017-12</td>\n",
       "      <td>2017-12-30</td>\n",
       "      <td>4.428571</td>\n",
       "      <td>1</td>\n",
       "      <td>0.225806</td>\n",
       "    </tr>\n",
       "    <tr>\n",
       "      <th>57146</th>\n",
       "      <td>990e9e5aff5387a6c9cc79d9c4a4c5f6</td>\n",
       "      <td>2018-01</td>\n",
       "      <td>2018-01-04</td>\n",
       "      <td>4.428571</td>\n",
       "      <td>1</td>\n",
       "      <td>0.225806</td>\n",
       "    </tr>\n",
       "    <tr>\n",
       "      <th>14887</th>\n",
       "      <td>27d25e600109af78787b2f8c2df7fccb</td>\n",
       "      <td>2017-12</td>\n",
       "      <td>2017-12-02</td>\n",
       "      <td>4.428571</td>\n",
       "      <td>1</td>\n",
       "      <td>0.225806</td>\n",
       "    </tr>\n",
       "    <tr>\n",
       "      <th>57148</th>\n",
       "      <td>991063f2ad2a1070dfd3d4ff9d2dee6a</td>\n",
       "      <td>2018-03</td>\n",
       "      <td>2018-03-26</td>\n",
       "      <td>4.428571</td>\n",
       "      <td>1</td>\n",
       "      <td>0.225806</td>\n",
       "    </tr>\n",
       "    <tr>\n",
       "      <th>95534</th>\n",
       "      <td>ffffd2657e2aad2907e67c3e9daecbeb</td>\n",
       "      <td>2017-05</td>\n",
       "      <td>2017-05-02</td>\n",
       "      <td>4.428571</td>\n",
       "      <td>1</td>\n",
       "      <td>0.225806</td>\n",
       "    </tr>\n",
       "  </tbody>\n",
       "</table>\n",
       "<p>95535 rows × 6 columns</p>\n",
       "</div>"
      ],
      "text/plain": [
       "                     customer_unique_id order_year_month  order_date  \\\n",
       "7119   12f5d6e1cbf93dafd9dcc19095df0b3d          2017-01  2017-01-05   \n",
       "49299  83e7958a94bd7f74a9414d8782f87628          2017-01  2017-01-05   \n",
       "86560  e78838df9c44e102b6ac84cc5eea7d5c          2017-02  2017-02-07   \n",
       "66823  b2bd387fdc3cf05931f0f897d607dc88          2018-02  2018-02-27   \n",
       "34410  5bdb6f56a8fb4272b802f504bb6d1287          2018-02  2018-02-06   \n",
       "...                                 ...              ...         ...   \n",
       "14889  27d59fe7ff2ed894f826fd4a7e5466ea          2017-12  2017-12-30   \n",
       "57146  990e9e5aff5387a6c9cc79d9c4a4c5f6          2018-01  2018-01-04   \n",
       "14887  27d25e600109af78787b2f8c2df7fccb          2017-12  2017-12-02   \n",
       "57148  991063f2ad2a1070dfd3d4ff9d2dee6a          2018-03  2018-03-26   \n",
       "95534  ffffd2657e2aad2907e67c3e9daecbeb          2017-05  2017-05-02   \n",
       "\n",
       "       weeks_on_months  orders_by_month  avg_per_week  \n",
       "7119          4.428571                6      1.354839  \n",
       "49299         4.428571                4      0.903226  \n",
       "86560         4.000000                3      0.750000  \n",
       "66823         4.000000                3      0.750000  \n",
       "34410         4.000000                3      0.750000  \n",
       "...                ...              ...           ...  \n",
       "14889         4.428571                1      0.225806  \n",
       "57146         4.428571                1      0.225806  \n",
       "14887         4.428571                1      0.225806  \n",
       "57148         4.428571                1      0.225806  \n",
       "95534         4.428571                1      0.225806  \n",
       "\n",
       "[95535 rows x 6 columns]"
      ]
     },
     "execution_count": 79,
     "metadata": {},
     "output_type": "execute_result"
    }
   ],
   "source": [
    "df_as_month.sort_values('avg_per_week',ascending = False)"
   ]
  },
  {
   "cell_type": "markdown",
   "metadata": {},
   "source": [
    "**Ответ лежит в датафрейме 'df_as_month' в столбце 'avg_per_week'**"
   ]
  },
  {
   "cell_type": "markdown",
   "metadata": {},
   "source": [
    "**Используя pandas, проведи когортный анализ пользователей. В период с января по декабрь выяви когорту с самым высоким retention на 3й месяц.**"
   ]
  },
  {
   "cell_type": "code",
   "execution_count": 80,
   "metadata": {},
   "outputs": [
    {
     "data": {
      "text/html": [
       "<div>\n",
       "<style scoped>\n",
       "    .dataframe tbody tr th:only-of-type {\n",
       "        vertical-align: middle;\n",
       "    }\n",
       "\n",
       "    .dataframe tbody tr th {\n",
       "        vertical-align: top;\n",
       "    }\n",
       "\n",
       "    .dataframe thead th {\n",
       "        text-align: right;\n",
       "    }\n",
       "</style>\n",
       "<table border=\"1\" class=\"dataframe\">\n",
       "  <thead>\n",
       "    <tr style=\"text-align: right;\">\n",
       "      <th></th>\n",
       "      <th>order_id</th>\n",
       "      <th>customer_id</th>\n",
       "      <th>order_status</th>\n",
       "      <th>order_purchase_timestamp</th>\n",
       "      <th>order_approved_at</th>\n",
       "      <th>order_delivered_carrier_date</th>\n",
       "      <th>order_delivered_customer_date</th>\n",
       "      <th>order_estimated_delivery_date</th>\n",
       "      <th>customer_unique_id</th>\n",
       "      <th>customer_zip_code_prefix</th>\n",
       "      <th>customer_city</th>\n",
       "      <th>customer_state</th>\n",
       "      <th>weeks_on_months</th>\n",
       "      <th>order_date</th>\n",
       "      <th>order_year_month</th>\n",
       "    </tr>\n",
       "  </thead>\n",
       "  <tbody>\n",
       "    <tr>\n",
       "      <th>0</th>\n",
       "      <td>e481f51cbdc54678b7cc49136f2d6af7</td>\n",
       "      <td>9ef432eb6251297304e76186b10a928d</td>\n",
       "      <td>delivered</td>\n",
       "      <td>2017-10-02 10:56:33</td>\n",
       "      <td>2017-10-02 11:07:15</td>\n",
       "      <td>2017-10-04 19:55:00</td>\n",
       "      <td>2017-10-10 21:25:13</td>\n",
       "      <td>2017-10-18</td>\n",
       "      <td>7c396fd4830fd04220f754e42b4e5bff</td>\n",
       "      <td>3149</td>\n",
       "      <td>sao paulo</td>\n",
       "      <td>SP</td>\n",
       "      <td>4.428571</td>\n",
       "      <td>2017-10-02</td>\n",
       "      <td>2017-10</td>\n",
       "    </tr>\n",
       "  </tbody>\n",
       "</table>\n",
       "</div>"
      ],
      "text/plain": [
       "                           order_id                       customer_id  \\\n",
       "0  e481f51cbdc54678b7cc49136f2d6af7  9ef432eb6251297304e76186b10a928d   \n",
       "\n",
       "  order_status order_purchase_timestamp   order_approved_at  \\\n",
       "0    delivered      2017-10-02 10:56:33 2017-10-02 11:07:15   \n",
       "\n",
       "  order_delivered_carrier_date order_delivered_customer_date  \\\n",
       "0          2017-10-04 19:55:00           2017-10-10 21:25:13   \n",
       "\n",
       "  order_estimated_delivery_date                customer_unique_id  \\\n",
       "0                    2017-10-18  7c396fd4830fd04220f754e42b4e5bff   \n",
       "\n",
       "   customer_zip_code_prefix customer_city customer_state  weeks_on_months  \\\n",
       "0                      3149     sao paulo             SP         4.428571   \n",
       "\n",
       "   order_date order_year_month  \n",
       "0  2017-10-02          2017-10  "
      ]
     },
     "execution_count": 80,
     "metadata": {},
     "output_type": "execute_result"
    }
   ],
   "source": [
    "df_users_orders.head(1)"
   ]
  },
  {
   "cell_type": "markdown",
   "metadata": {},
   "source": [
    "Преобразуем некоторые столбцы в тип данных datetime"
   ]
  },
  {
   "cell_type": "code",
   "execution_count": 81,
   "metadata": {},
   "outputs": [],
   "source": [
    "df_users_orders['order_year_month'] = df_users_orders.order_purchase_timestamp.values.astype('datetime64[M]')"
   ]
  },
  {
   "cell_type": "code",
   "execution_count": 82,
   "metadata": {},
   "outputs": [
    {
     "data": {
      "text/plain": [
       "array(['2016-09-01T00:00:00.000000000', '2016-10-01T00:00:00.000000000',\n",
       "       '2016-12-01T00:00:00.000000000', '2017-01-01T00:00:00.000000000',\n",
       "       '2017-02-01T00:00:00.000000000', '2017-03-01T00:00:00.000000000',\n",
       "       '2017-04-01T00:00:00.000000000', '2017-05-01T00:00:00.000000000',\n",
       "       '2017-06-01T00:00:00.000000000', '2017-07-01T00:00:00.000000000',\n",
       "       '2017-08-01T00:00:00.000000000', '2017-09-01T00:00:00.000000000',\n",
       "       '2017-10-01T00:00:00.000000000', '2017-11-01T00:00:00.000000000',\n",
       "       '2017-12-01T00:00:00.000000000', '2018-01-01T00:00:00.000000000',\n",
       "       '2018-02-01T00:00:00.000000000', '2018-03-01T00:00:00.000000000',\n",
       "       '2018-04-01T00:00:00.000000000', '2018-05-01T00:00:00.000000000',\n",
       "       '2018-06-01T00:00:00.000000000', '2018-07-01T00:00:00.000000000',\n",
       "       '2018-08-01T00:00:00.000000000'], dtype='datetime64[ns]')"
      ]
     },
     "execution_count": 82,
     "metadata": {},
     "output_type": "execute_result"
    }
   ],
   "source": [
    "df_users_orders.order_year_month.sort_values().unique()"
   ]
  },
  {
   "cell_type": "markdown",
   "metadata": {},
   "source": [
    "Когортный анализ нужно проводить за определенный промежуток времени (например год), в нашей таблице полный год единственный - это 2017."
   ]
  },
  {
   "cell_type": "code",
   "execution_count": 83,
   "metadata": {},
   "outputs": [],
   "source": [
    "orders_cohort_analysis = df_users_orders.loc[(df_users_orders['order_purchase_timestamp'] >= '2017-01-01 00:00:00') & (df_users_orders['order_purchase_timestamp'] <= '2017-12-31 00:00:00') ]"
   ]
  },
  {
   "cell_type": "code",
   "execution_count": 84,
   "metadata": {},
   "outputs": [
    {
     "data": {
      "text/plain": [
       "count                   43314\n",
       "unique                  43091\n",
       "top       2017-11-20 11:46:30\n",
       "freq                        3\n",
       "first     2017-01-05 11:56:06\n",
       "last      2017-12-30 23:53:28\n",
       "Name: order_purchase_timestamp, dtype: object"
      ]
     },
     "execution_count": 84,
     "metadata": {},
     "output_type": "execute_result"
    }
   ],
   "source": [
    "orders_cohort_analysis.order_purchase_timestamp.describe()"
   ]
  },
  {
   "cell_type": "markdown",
   "metadata": {},
   "source": [
    "Определим, когда пользователь сделал свой первый заказ"
   ]
  },
  {
   "cell_type": "code",
   "execution_count": 85,
   "metadata": {},
   "outputs": [],
   "source": [
    "first_orders = orders_cohort_analysis.groupby('customer_unique_id', as_index=False) \\\n",
    "    .agg({'order_year_month': 'min'}) \\\n",
    "    .rename(columns={'order_year_month': 'month_of_the_first_purchase'})"
   ]
  },
  {
   "cell_type": "code",
   "execution_count": 86,
   "metadata": {},
   "outputs": [
    {
     "data": {
      "text/html": [
       "<div>\n",
       "<style scoped>\n",
       "    .dataframe tbody tr th:only-of-type {\n",
       "        vertical-align: middle;\n",
       "    }\n",
       "\n",
       "    .dataframe tbody tr th {\n",
       "        vertical-align: top;\n",
       "    }\n",
       "\n",
       "    .dataframe thead th {\n",
       "        text-align: right;\n",
       "    }\n",
       "</style>\n",
       "<table border=\"1\" class=\"dataframe\">\n",
       "  <thead>\n",
       "    <tr style=\"text-align: right;\">\n",
       "      <th></th>\n",
       "      <th>customer_unique_id</th>\n",
       "      <th>month_of_the_first_purchase</th>\n",
       "    </tr>\n",
       "  </thead>\n",
       "  <tbody>\n",
       "    <tr>\n",
       "      <th>0</th>\n",
       "      <td>0000f46a3911fa3c0805444483337064</td>\n",
       "      <td>2017-03-01</td>\n",
       "    </tr>\n",
       "    <tr>\n",
       "      <th>1</th>\n",
       "      <td>0000f6ccb0745a6a4b88665a16c9f078</td>\n",
       "      <td>2017-10-01</td>\n",
       "    </tr>\n",
       "    <tr>\n",
       "      <th>2</th>\n",
       "      <td>0004aac84e0df4da2b147fca70cf8255</td>\n",
       "      <td>2017-11-01</td>\n",
       "    </tr>\n",
       "    <tr>\n",
       "      <th>3</th>\n",
       "      <td>0005e1862207bf6ccc02e4228effd9a0</td>\n",
       "      <td>2017-03-01</td>\n",
       "    </tr>\n",
       "    <tr>\n",
       "      <th>4</th>\n",
       "      <td>0006fdc98a402fceb4eb0ee528f6a8d4</td>\n",
       "      <td>2017-07-01</td>\n",
       "    </tr>\n",
       "  </tbody>\n",
       "</table>\n",
       "</div>"
      ],
      "text/plain": [
       "                 customer_unique_id month_of_the_first_purchase\n",
       "0  0000f46a3911fa3c0805444483337064                  2017-03-01\n",
       "1  0000f6ccb0745a6a4b88665a16c9f078                  2017-10-01\n",
       "2  0004aac84e0df4da2b147fca70cf8255                  2017-11-01\n",
       "3  0005e1862207bf6ccc02e4228effd9a0                  2017-03-01\n",
       "4  0006fdc98a402fceb4eb0ee528f6a8d4                  2017-07-01"
      ]
     },
     "execution_count": 86,
     "metadata": {},
     "output_type": "execute_result"
    }
   ],
   "source": [
    "first_orders.head(5)"
   ]
  },
  {
   "cell_type": "code",
   "execution_count": 87,
   "metadata": {},
   "outputs": [],
   "source": [
    "orders_cohort_analysis_df = orders_cohort_analysis.merge(first_orders, on='customer_unique_id', how='left')"
   ]
  },
  {
   "cell_type": "markdown",
   "metadata": {},
   "source": [
    "Посчитаем разницу между текущим и первым заказом"
   ]
  },
  {
   "cell_type": "code",
   "execution_count": 88,
   "metadata": {},
   "outputs": [],
   "source": [
    "orders_cohort_analysis_df['number_of_months'] = orders_cohort_analysis_df['order_year_month'].dt.month - orders_cohort_analysis_df['month_of_the_first_purchase'].dt.month"
   ]
  },
  {
   "cell_type": "markdown",
   "metadata": {},
   "source": [
    "Отберем только нужные колонки для построения сводной таблицы"
   ]
  },
  {
   "cell_type": "code",
   "execution_count": 89,
   "metadata": {},
   "outputs": [],
   "source": [
    "orders_cohort_analysis_df_final = orders_cohort_analysis_df[['customer_unique_id', 'order_purchase_timestamp', 'order_year_month', 'month_of_the_first_purchase', 'number_of_months']]"
   ]
  },
  {
   "cell_type": "code",
   "execution_count": 90,
   "metadata": {},
   "outputs": [
    {
     "data": {
      "text/html": [
       "<div>\n",
       "<style scoped>\n",
       "    .dataframe tbody tr th:only-of-type {\n",
       "        vertical-align: middle;\n",
       "    }\n",
       "\n",
       "    .dataframe tbody tr th {\n",
       "        vertical-align: top;\n",
       "    }\n",
       "\n",
       "    .dataframe thead th {\n",
       "        text-align: right;\n",
       "    }\n",
       "</style>\n",
       "<table border=\"1\" class=\"dataframe\">\n",
       "  <thead>\n",
       "    <tr style=\"text-align: right;\">\n",
       "      <th></th>\n",
       "      <th>customer_unique_id</th>\n",
       "      <th>order_purchase_timestamp</th>\n",
       "      <th>order_year_month</th>\n",
       "      <th>month_of_the_first_purchase</th>\n",
       "      <th>number_of_months</th>\n",
       "    </tr>\n",
       "  </thead>\n",
       "  <tbody>\n",
       "    <tr>\n",
       "      <th>0</th>\n",
       "      <td>7c396fd4830fd04220f754e42b4e5bff</td>\n",
       "      <td>2017-10-02 10:56:33</td>\n",
       "      <td>2017-10-01</td>\n",
       "      <td>2017-09-01</td>\n",
       "      <td>1</td>\n",
       "    </tr>\n",
       "    <tr>\n",
       "      <th>1</th>\n",
       "      <td>7c142cf63193a1473d2e66489a9ae977</td>\n",
       "      <td>2017-11-18 19:28:06</td>\n",
       "      <td>2017-11-01</td>\n",
       "      <td>2017-11-01</td>\n",
       "      <td>0</td>\n",
       "    </tr>\n",
       "    <tr>\n",
       "      <th>2</th>\n",
       "      <td>80bb27c7c16e8f973207a5086ab329e2</td>\n",
       "      <td>2017-07-09 21:57:05</td>\n",
       "      <td>2017-07-01</td>\n",
       "      <td>2017-07-01</td>\n",
       "      <td>0</td>\n",
       "    </tr>\n",
       "    <tr>\n",
       "      <th>3</th>\n",
       "      <td>932afa1e708222e5821dac9cd5db4cae</td>\n",
       "      <td>2017-05-16 13:10:30</td>\n",
       "      <td>2017-05-01</td>\n",
       "      <td>2017-05-01</td>\n",
       "      <td>0</td>\n",
       "    </tr>\n",
       "    <tr>\n",
       "      <th>4</th>\n",
       "      <td>39382392765b6dc74812866ee5ee92a7</td>\n",
       "      <td>2017-01-23 18:29:09</td>\n",
       "      <td>2017-01-01</td>\n",
       "      <td>2017-01-01</td>\n",
       "      <td>0</td>\n",
       "    </tr>\n",
       "  </tbody>\n",
       "</table>\n",
       "</div>"
      ],
      "text/plain": [
       "                 customer_unique_id order_purchase_timestamp order_year_month  \\\n",
       "0  7c396fd4830fd04220f754e42b4e5bff      2017-10-02 10:56:33       2017-10-01   \n",
       "1  7c142cf63193a1473d2e66489a9ae977      2017-11-18 19:28:06       2017-11-01   \n",
       "2  80bb27c7c16e8f973207a5086ab329e2      2017-07-09 21:57:05       2017-07-01   \n",
       "3  932afa1e708222e5821dac9cd5db4cae      2017-05-16 13:10:30       2017-05-01   \n",
       "4  39382392765b6dc74812866ee5ee92a7      2017-01-23 18:29:09       2017-01-01   \n",
       "\n",
       "  month_of_the_first_purchase  number_of_months  \n",
       "0                  2017-09-01                 1  \n",
       "1                  2017-11-01                 0  \n",
       "2                  2017-07-01                 0  \n",
       "3                  2017-05-01                 0  \n",
       "4                  2017-01-01                 0  "
      ]
     },
     "execution_count": 90,
     "metadata": {},
     "output_type": "execute_result"
    }
   ],
   "source": [
    "orders_cohort_analysis_df_final.head()"
   ]
  },
  {
   "cell_type": "code",
   "execution_count": 91,
   "metadata": {},
   "outputs": [],
   "source": [
    "orders_cohort_analysis_df_final_last = orders_cohort_analysis_df_final.groupby(['order_year_month', 'number_of_months'], as_index=False)\\\n",
    "    .agg({'customer_unique_id': 'nunique'})"
   ]
  },
  {
   "cell_type": "code",
   "execution_count": 92,
   "metadata": {},
   "outputs": [
    {
     "data": {
      "text/html": [
       "<div>\n",
       "<style scoped>\n",
       "    .dataframe tbody tr th:only-of-type {\n",
       "        vertical-align: middle;\n",
       "    }\n",
       "\n",
       "    .dataframe tbody tr th {\n",
       "        vertical-align: top;\n",
       "    }\n",
       "\n",
       "    .dataframe thead th {\n",
       "        text-align: right;\n",
       "    }\n",
       "</style>\n",
       "<table border=\"1\" class=\"dataframe\">\n",
       "  <thead>\n",
       "    <tr style=\"text-align: right;\">\n",
       "      <th>order_year_month</th>\n",
       "      <th>2017-01-01</th>\n",
       "      <th>2017-02-01</th>\n",
       "      <th>2017-03-01</th>\n",
       "      <th>2017-04-01</th>\n",
       "      <th>2017-05-01</th>\n",
       "      <th>2017-06-01</th>\n",
       "      <th>2017-07-01</th>\n",
       "      <th>2017-08-01</th>\n",
       "      <th>2017-09-01</th>\n",
       "      <th>2017-10-01</th>\n",
       "      <th>2017-11-01</th>\n",
       "      <th>2017-12-01</th>\n",
       "    </tr>\n",
       "    <tr>\n",
       "      <th>number_of_months</th>\n",
       "      <th></th>\n",
       "      <th></th>\n",
       "      <th></th>\n",
       "      <th></th>\n",
       "      <th></th>\n",
       "      <th></th>\n",
       "      <th></th>\n",
       "      <th></th>\n",
       "      <th></th>\n",
       "      <th></th>\n",
       "      <th></th>\n",
       "      <th></th>\n",
       "    </tr>\n",
       "  </thead>\n",
       "  <tbody>\n",
       "    <tr>\n",
       "      <th>0</th>\n",
       "      <td>100.0</td>\n",
       "      <td>99.876238</td>\n",
       "      <td>99.800558</td>\n",
       "      <td>99.252419</td>\n",
       "      <td>99.194708</td>\n",
       "      <td>98.731707</td>\n",
       "      <td>98.732841</td>\n",
       "      <td>98.637801</td>\n",
       "      <td>98.089172</td>\n",
       "      <td>98.007698</td>\n",
       "      <td>98.301309</td>\n",
       "      <td>97.936419</td>\n",
       "    </tr>\n",
       "    <tr>\n",
       "      <th>1</th>\n",
       "      <td>0.0</td>\n",
       "      <td>0.123762</td>\n",
       "      <td>0.119665</td>\n",
       "      <td>0.483729</td>\n",
       "      <td>0.402646</td>\n",
       "      <td>0.520325</td>\n",
       "      <td>0.369588</td>\n",
       "      <td>0.462175</td>\n",
       "      <td>0.685938</td>\n",
       "      <td>0.633914</td>\n",
       "      <td>0.431635</td>\n",
       "      <td>0.743633</td>\n",
       "    </tr>\n",
       "    <tr>\n",
       "      <th>2</th>\n",
       "      <td>0.0</td>\n",
       "      <td>0.000000</td>\n",
       "      <td>0.079777</td>\n",
       "      <td>0.219877</td>\n",
       "      <td>0.258844</td>\n",
       "      <td>0.162602</td>\n",
       "      <td>0.422386</td>\n",
       "      <td>0.291900</td>\n",
       "      <td>0.318471</td>\n",
       "      <td>0.316957</td>\n",
       "      <td>0.306321</td>\n",
       "      <td>0.204499</td>\n",
       "    </tr>\n",
       "    <tr>\n",
       "      <th>3</th>\n",
       "      <td>0.0</td>\n",
       "      <td>0.000000</td>\n",
       "      <td>0.000000</td>\n",
       "      <td>0.043975</td>\n",
       "      <td>0.057521</td>\n",
       "      <td>0.325203</td>\n",
       "      <td>0.105597</td>\n",
       "      <td>0.243250</td>\n",
       "      <td>0.318471</td>\n",
       "      <td>0.203758</td>\n",
       "      <td>0.153161</td>\n",
       "      <td>0.185908</td>\n",
       "    </tr>\n",
       "    <tr>\n",
       "      <th>4</th>\n",
       "      <td>0.0</td>\n",
       "      <td>0.000000</td>\n",
       "      <td>0.000000</td>\n",
       "      <td>0.000000</td>\n",
       "      <td>0.086281</td>\n",
       "      <td>0.227642</td>\n",
       "      <td>0.237592</td>\n",
       "      <td>0.145950</td>\n",
       "      <td>0.244978</td>\n",
       "      <td>0.203758</td>\n",
       "      <td>0.153161</td>\n",
       "      <td>0.260271</td>\n",
       "    </tr>\n",
       "    <tr>\n",
       "      <th>5</th>\n",
       "      <td>0.0</td>\n",
       "      <td>0.000000</td>\n",
       "      <td>0.000000</td>\n",
       "      <td>0.000000</td>\n",
       "      <td>0.000000</td>\n",
       "      <td>0.032520</td>\n",
       "      <td>0.052798</td>\n",
       "      <td>0.097300</td>\n",
       "      <td>0.146987</td>\n",
       "      <td>0.249038</td>\n",
       "      <td>0.167084</td>\n",
       "      <td>0.148727</td>\n",
       "    </tr>\n",
       "    <tr>\n",
       "      <th>6</th>\n",
       "      <td>0.0</td>\n",
       "      <td>0.000000</td>\n",
       "      <td>0.000000</td>\n",
       "      <td>0.000000</td>\n",
       "      <td>0.000000</td>\n",
       "      <td>0.000000</td>\n",
       "      <td>0.079197</td>\n",
       "      <td>0.097300</td>\n",
       "      <td>0.097991</td>\n",
       "      <td>0.181118</td>\n",
       "      <td>0.194932</td>\n",
       "      <td>0.204499</td>\n",
       "    </tr>\n",
       "    <tr>\n",
       "      <th>7</th>\n",
       "      <td>0.0</td>\n",
       "      <td>0.000000</td>\n",
       "      <td>0.000000</td>\n",
       "      <td>0.000000</td>\n",
       "      <td>0.000000</td>\n",
       "      <td>0.000000</td>\n",
       "      <td>0.000000</td>\n",
       "      <td>0.024325</td>\n",
       "      <td>0.073493</td>\n",
       "      <td>0.181118</td>\n",
       "      <td>0.097466</td>\n",
       "      <td>0.092954</td>\n",
       "    </tr>\n",
       "    <tr>\n",
       "      <th>8</th>\n",
       "      <td>0.0</td>\n",
       "      <td>0.000000</td>\n",
       "      <td>0.000000</td>\n",
       "      <td>0.000000</td>\n",
       "      <td>0.000000</td>\n",
       "      <td>0.000000</td>\n",
       "      <td>0.000000</td>\n",
       "      <td>0.000000</td>\n",
       "      <td>0.024498</td>\n",
       "      <td>0.022640</td>\n",
       "      <td>0.111390</td>\n",
       "      <td>0.130136</td>\n",
       "    </tr>\n",
       "    <tr>\n",
       "      <th>9</th>\n",
       "      <td>0.0</td>\n",
       "      <td>0.000000</td>\n",
       "      <td>0.000000</td>\n",
       "      <td>0.000000</td>\n",
       "      <td>0.000000</td>\n",
       "      <td>0.000000</td>\n",
       "      <td>0.000000</td>\n",
       "      <td>0.000000</td>\n",
       "      <td>0.000000</td>\n",
       "      <td>0.000000</td>\n",
       "      <td>0.041771</td>\n",
       "      <td>0.037182</td>\n",
       "    </tr>\n",
       "    <tr>\n",
       "      <th>10</th>\n",
       "      <td>0.0</td>\n",
       "      <td>0.000000</td>\n",
       "      <td>0.000000</td>\n",
       "      <td>0.000000</td>\n",
       "      <td>0.000000</td>\n",
       "      <td>0.000000</td>\n",
       "      <td>0.000000</td>\n",
       "      <td>0.000000</td>\n",
       "      <td>0.000000</td>\n",
       "      <td>0.000000</td>\n",
       "      <td>0.041771</td>\n",
       "      <td>0.037182</td>\n",
       "    </tr>\n",
       "    <tr>\n",
       "      <th>11</th>\n",
       "      <td>0.0</td>\n",
       "      <td>0.000000</td>\n",
       "      <td>0.000000</td>\n",
       "      <td>0.000000</td>\n",
       "      <td>0.000000</td>\n",
       "      <td>0.000000</td>\n",
       "      <td>0.000000</td>\n",
       "      <td>0.000000</td>\n",
       "      <td>0.000000</td>\n",
       "      <td>0.000000</td>\n",
       "      <td>0.000000</td>\n",
       "      <td>0.018591</td>\n",
       "    </tr>\n",
       "  </tbody>\n",
       "</table>\n",
       "</div>"
      ],
      "text/plain": [
       "order_year_month  2017-01-01  2017-02-01  2017-03-01  2017-04-01  2017-05-01  \\\n",
       "number_of_months                                                               \n",
       "0                      100.0   99.876238   99.800558   99.252419   99.194708   \n",
       "1                        0.0    0.123762    0.119665    0.483729    0.402646   \n",
       "2                        0.0    0.000000    0.079777    0.219877    0.258844   \n",
       "3                        0.0    0.000000    0.000000    0.043975    0.057521   \n",
       "4                        0.0    0.000000    0.000000    0.000000    0.086281   \n",
       "5                        0.0    0.000000    0.000000    0.000000    0.000000   \n",
       "6                        0.0    0.000000    0.000000    0.000000    0.000000   \n",
       "7                        0.0    0.000000    0.000000    0.000000    0.000000   \n",
       "8                        0.0    0.000000    0.000000    0.000000    0.000000   \n",
       "9                        0.0    0.000000    0.000000    0.000000    0.000000   \n",
       "10                       0.0    0.000000    0.000000    0.000000    0.000000   \n",
       "11                       0.0    0.000000    0.000000    0.000000    0.000000   \n",
       "\n",
       "order_year_month  2017-06-01  2017-07-01  2017-08-01  2017-09-01  2017-10-01  \\\n",
       "number_of_months                                                               \n",
       "0                  98.731707   98.732841   98.637801   98.089172   98.007698   \n",
       "1                   0.520325    0.369588    0.462175    0.685938    0.633914   \n",
       "2                   0.162602    0.422386    0.291900    0.318471    0.316957   \n",
       "3                   0.325203    0.105597    0.243250    0.318471    0.203758   \n",
       "4                   0.227642    0.237592    0.145950    0.244978    0.203758   \n",
       "5                   0.032520    0.052798    0.097300    0.146987    0.249038   \n",
       "6                   0.000000    0.079197    0.097300    0.097991    0.181118   \n",
       "7                   0.000000    0.000000    0.024325    0.073493    0.181118   \n",
       "8                   0.000000    0.000000    0.000000    0.024498    0.022640   \n",
       "9                   0.000000    0.000000    0.000000    0.000000    0.000000   \n",
       "10                  0.000000    0.000000    0.000000    0.000000    0.000000   \n",
       "11                  0.000000    0.000000    0.000000    0.000000    0.000000   \n",
       "\n",
       "order_year_month  2017-11-01  2017-12-01  \n",
       "number_of_months                          \n",
       "0                  98.301309   97.936419  \n",
       "1                   0.431635    0.743633  \n",
       "2                   0.306321    0.204499  \n",
       "3                   0.153161    0.185908  \n",
       "4                   0.153161    0.260271  \n",
       "5                   0.167084    0.148727  \n",
       "6                   0.194932    0.204499  \n",
       "7                   0.097466    0.092954  \n",
       "8                   0.111390    0.130136  \n",
       "9                   0.041771    0.037182  \n",
       "10                  0.041771    0.037182  \n",
       "11                  0.000000    0.018591  "
      ]
     },
     "execution_count": 92,
     "metadata": {},
     "output_type": "execute_result"
    }
   ],
   "source": [
    "final_cohorts = pd.pivot_table(orders_cohort_analysis_df_final_last, \n",
    "                             index='number_of_months', \n",
    "                             columns='order_year_month', \n",
    "                             values='customer_unique_id',\n",
    "                             fill_value=0).apply(lambda x: x*100/sum(x))\n",
    "final_cohorts"
   ]
  },
  {
   "cell_type": "markdown",
   "metadata": {},
   "source": [
    "**Максимальное значение CRR на третий месяц, составляет 0.325203, что соответсвует когорте 2017-06**"
   ]
  },
  {
   "cell_type": "markdown",
   "metadata": {},
   "source": [
    "**Используя python, построй RFM-сегментацию пользователей, чтобы качественно оценить свою аудиторию**"
   ]
  },
  {
   "cell_type": "markdown",
   "metadata": {},
   "source": [
    "Recency (Давность) — Как давно клиент совершил покупку? Нужно понять какова последняя дата покупки, в нашем случае это будет не сегодняшний день, а посдняя дата  в датасете.\n",
    "\n",
    "Frequency (Частота) — Как часто они совершают покупки?\n",
    "\n",
    "Monetary Value (Денежная ценность) — Сколько они тратят?"
   ]
  },
  {
   "cell_type": "code",
   "execution_count": 93,
   "metadata": {},
   "outputs": [],
   "source": [
    "orders_purchases = orders.merge(olist_customers_datase, how='left', on='customer_id')"
   ]
  },
  {
   "cell_type": "markdown",
   "metadata": {},
   "source": [
    "Посмотри на структуру необходимых данных:"
   ]
  },
  {
   "cell_type": "code",
   "execution_count": 94,
   "metadata": {},
   "outputs": [
    {
     "data": {
      "text/plain": [
       "(112650, 7)"
      ]
     },
     "execution_count": 94,
     "metadata": {},
     "output_type": "execute_result"
    }
   ],
   "source": [
    "olist_order_items_dataset.shape"
   ]
  },
  {
   "cell_type": "code",
   "execution_count": 95,
   "metadata": {},
   "outputs": [
    {
     "data": {
      "text/plain": [
       "(96423, 12)"
      ]
     },
     "execution_count": 95,
     "metadata": {},
     "output_type": "execute_result"
    }
   ],
   "source": [
    "orders_purchases.shape"
   ]
  },
  {
   "cell_type": "code",
   "execution_count": 96,
   "metadata": {},
   "outputs": [],
   "source": [
    "final = olist_order_items_dataset.merge(orders_purchases, how = 'left', on = 'order_id')"
   ]
  },
  {
   "cell_type": "code",
   "execution_count": 97,
   "metadata": {},
   "outputs": [
    {
     "data": {
      "text/html": [
       "<div>\n",
       "<style scoped>\n",
       "    .dataframe tbody tr th:only-of-type {\n",
       "        vertical-align: middle;\n",
       "    }\n",
       "\n",
       "    .dataframe tbody tr th {\n",
       "        vertical-align: top;\n",
       "    }\n",
       "\n",
       "    .dataframe thead th {\n",
       "        text-align: right;\n",
       "    }\n",
       "</style>\n",
       "<table border=\"1\" class=\"dataframe\">\n",
       "  <thead>\n",
       "    <tr style=\"text-align: right;\">\n",
       "      <th></th>\n",
       "      <th>order_id</th>\n",
       "      <th>order_item_id</th>\n",
       "      <th>product_id</th>\n",
       "      <th>seller_id</th>\n",
       "      <th>shipping_limit_date</th>\n",
       "      <th>price</th>\n",
       "      <th>freight_value</th>\n",
       "      <th>customer_id</th>\n",
       "      <th>order_status</th>\n",
       "      <th>order_purchase_timestamp</th>\n",
       "      <th>order_approved_at</th>\n",
       "      <th>order_delivered_carrier_date</th>\n",
       "      <th>order_delivered_customer_date</th>\n",
       "      <th>order_estimated_delivery_date</th>\n",
       "      <th>customer_unique_id</th>\n",
       "      <th>customer_zip_code_prefix</th>\n",
       "      <th>customer_city</th>\n",
       "      <th>customer_state</th>\n",
       "    </tr>\n",
       "  </thead>\n",
       "  <tbody>\n",
       "    <tr>\n",
       "      <th>0</th>\n",
       "      <td>00010242fe8c5a6d1ba2dd792cb16214</td>\n",
       "      <td>1</td>\n",
       "      <td>4244733e06e7ecb4970a6e2683c13e61</td>\n",
       "      <td>48436dade18ac8b2bce089ec2a041202</td>\n",
       "      <td>2017-09-19 09:45:35</td>\n",
       "      <td>58.9</td>\n",
       "      <td>13.29</td>\n",
       "      <td>3ce436f183e68e07877b285a838db11a</td>\n",
       "      <td>delivered</td>\n",
       "      <td>2017-09-13 08:59:02</td>\n",
       "      <td>2017-09-13 09:45:35</td>\n",
       "      <td>2017-09-19 18:34:16</td>\n",
       "      <td>2017-09-20 23:43:48</td>\n",
       "      <td>2017-09-29</td>\n",
       "      <td>871766c5855e863f6eccc05f988b23cb</td>\n",
       "      <td>28013.0</td>\n",
       "      <td>campos dos goytacazes</td>\n",
       "      <td>RJ</td>\n",
       "    </tr>\n",
       "  </tbody>\n",
       "</table>\n",
       "</div>"
      ],
      "text/plain": [
       "                           order_id  order_item_id  \\\n",
       "0  00010242fe8c5a6d1ba2dd792cb16214              1   \n",
       "\n",
       "                         product_id                         seller_id  \\\n",
       "0  4244733e06e7ecb4970a6e2683c13e61  48436dade18ac8b2bce089ec2a041202   \n",
       "\n",
       "  shipping_limit_date  price  freight_value                       customer_id  \\\n",
       "0 2017-09-19 09:45:35   58.9          13.29  3ce436f183e68e07877b285a838db11a   \n",
       "\n",
       "  order_status order_purchase_timestamp   order_approved_at  \\\n",
       "0    delivered      2017-09-13 08:59:02 2017-09-13 09:45:35   \n",
       "\n",
       "  order_delivered_carrier_date order_delivered_customer_date  \\\n",
       "0          2017-09-19 18:34:16           2017-09-20 23:43:48   \n",
       "\n",
       "  order_estimated_delivery_date                customer_unique_id  \\\n",
       "0                    2017-09-29  871766c5855e863f6eccc05f988b23cb   \n",
       "\n",
       "   customer_zip_code_prefix          customer_city customer_state  \n",
       "0                   28013.0  campos dos goytacazes             RJ  "
      ]
     },
     "execution_count": 97,
     "metadata": {},
     "output_type": "execute_result"
    }
   ],
   "source": [
    "final.head(1)"
   ]
  },
  {
   "cell_type": "markdown",
   "metadata": {},
   "source": [
    "Оставим только нужные столбцы:"
   ]
  },
  {
   "cell_type": "code",
   "execution_count": 98,
   "metadata": {},
   "outputs": [],
   "source": [
    "rfm = final[['order_id', 'customer_unique_id', 'price', 'order_purchase_timestamp']]"
   ]
  },
  {
   "cell_type": "code",
   "execution_count": 99,
   "metadata": {},
   "outputs": [],
   "source": [
    "now = rfm.order_purchase_timestamp.max()"
   ]
  },
  {
   "cell_type": "code",
   "execution_count": 100,
   "metadata": {},
   "outputs": [
    {
     "data": {
      "text/plain": [
       "Timestamp('2018-08-29 15:00:37')"
      ]
     },
     "execution_count": 100,
     "metadata": {},
     "output_type": "execute_result"
    }
   ],
   "source": [
    "now"
   ]
  },
  {
   "cell_type": "code",
   "execution_count": 101,
   "metadata": {},
   "outputs": [],
   "source": [
    "period = 365"
   ]
  },
  {
   "cell_type": "markdown",
   "metadata": {},
   "source": [
    "Подсчитаем сумму каждого заказа (monetary)"
   ]
  },
  {
   "cell_type": "code",
   "execution_count": 102,
   "metadata": {},
   "outputs": [],
   "source": [
    "rfm = rfm.groupby(['order_id', 'customer_unique_id', 'order_purchase_timestamp'], as_index=False) \\\n",
    "    .agg({'price':'sum'}) \\\n",
    "    .rename(columns={'price':'full_price'})"
   ]
  },
  {
   "cell_type": "code",
   "execution_count": 103,
   "metadata": {},
   "outputs": [
    {
     "data": {
      "text/html": [
       "<div>\n",
       "<style scoped>\n",
       "    .dataframe tbody tr th:only-of-type {\n",
       "        vertical-align: middle;\n",
       "    }\n",
       "\n",
       "    .dataframe tbody tr th {\n",
       "        vertical-align: top;\n",
       "    }\n",
       "\n",
       "    .dataframe thead th {\n",
       "        text-align: right;\n",
       "    }\n",
       "</style>\n",
       "<table border=\"1\" class=\"dataframe\">\n",
       "  <thead>\n",
       "    <tr style=\"text-align: right;\">\n",
       "      <th></th>\n",
       "      <th>order_id</th>\n",
       "      <th>customer_unique_id</th>\n",
       "      <th>order_purchase_timestamp</th>\n",
       "      <th>full_price</th>\n",
       "    </tr>\n",
       "  </thead>\n",
       "  <tbody>\n",
       "    <tr>\n",
       "      <th>0</th>\n",
       "      <td>00010242fe8c5a6d1ba2dd792cb16214</td>\n",
       "      <td>871766c5855e863f6eccc05f988b23cb</td>\n",
       "      <td>2017-09-13 08:59:02</td>\n",
       "      <td>58.9</td>\n",
       "    </tr>\n",
       "  </tbody>\n",
       "</table>\n",
       "</div>"
      ],
      "text/plain": [
       "                           order_id                customer_unique_id  \\\n",
       "0  00010242fe8c5a6d1ba2dd792cb16214  871766c5855e863f6eccc05f988b23cb   \n",
       "\n",
       "  order_purchase_timestamp  full_price  \n",
       "0      2017-09-13 08:59:02        58.9  "
      ]
     },
     "execution_count": 103,
     "metadata": {},
     "output_type": "execute_result"
    }
   ],
   "source": [
    "rfm.head(1)"
   ]
  },
  {
   "cell_type": "markdown",
   "metadata": {},
   "source": [
    "Определим frequency"
   ]
  },
  {
   "cell_type": "code",
   "execution_count": 104,
   "metadata": {},
   "outputs": [],
   "source": [
    "rfm = rfm.groupby(['customer_unique_id','order_purchase_timestamp'], as_index=False)\\\n",
    "        .agg({'order_id': 'nunique', 'full_price': 'sum'})\\\n",
    "        .rename(columns={'order_id': 'frequency', 'full_price':'monetary'})\\\n",
    "        .sort_values('monetary', ascending=False)"
   ]
  },
  {
   "cell_type": "code",
   "execution_count": 105,
   "metadata": {},
   "outputs": [
    {
     "data": {
      "text/html": [
       "<div>\n",
       "<style scoped>\n",
       "    .dataframe tbody tr th:only-of-type {\n",
       "        vertical-align: middle;\n",
       "    }\n",
       "\n",
       "    .dataframe tbody tr th {\n",
       "        vertical-align: top;\n",
       "    }\n",
       "\n",
       "    .dataframe thead th {\n",
       "        text-align: right;\n",
       "    }\n",
       "</style>\n",
       "<table border=\"1\" class=\"dataframe\">\n",
       "  <thead>\n",
       "    <tr style=\"text-align: right;\">\n",
       "      <th></th>\n",
       "      <th>customer_unique_id</th>\n",
       "      <th>order_purchase_timestamp</th>\n",
       "      <th>frequency</th>\n",
       "      <th>monetary</th>\n",
       "    </tr>\n",
       "  </thead>\n",
       "  <tbody>\n",
       "    <tr>\n",
       "      <th>3826</th>\n",
       "      <td>0a0a92112bd4c708ca5fde585afaa872</td>\n",
       "      <td>2017-09-29 15:24:52</td>\n",
       "      <td>1</td>\n",
       "      <td>13440.0</td>\n",
       "    </tr>\n",
       "  </tbody>\n",
       "</table>\n",
       "</div>"
      ],
      "text/plain": [
       "                    customer_unique_id order_purchase_timestamp  frequency  \\\n",
       "3826  0a0a92112bd4c708ca5fde585afaa872      2017-09-29 15:24:52          1   \n",
       "\n",
       "      monetary  \n",
       "3826   13440.0  "
      ]
     },
     "execution_count": 105,
     "metadata": {},
     "output_type": "execute_result"
    }
   ],
   "source": [
    "rfm.head(1)"
   ]
  },
  {
   "cell_type": "code",
   "execution_count": 106,
   "metadata": {},
   "outputs": [],
   "source": [
    "rfm['recency'] = (now - rfm.order_purchase_timestamp).dt.days"
   ]
  },
  {
   "cell_type": "markdown",
   "metadata": {},
   "source": [
    "Выберем нужные столбцы"
   ]
  },
  {
   "cell_type": "code",
   "execution_count": 107,
   "metadata": {},
   "outputs": [],
   "source": [
    "rfm = rfm[['customer_unique_id','frequency','monetary','recency']]"
   ]
  },
  {
   "cell_type": "markdown",
   "metadata": {},
   "source": [
    "Посмотри сколько пользователей совершают покупку чаще, чем 1 раз в месяц"
   ]
  },
  {
   "cell_type": "code",
   "execution_count": 108,
   "metadata": {},
   "outputs": [
    {
     "data": {
      "text/html": [
       "<div>\n",
       "<style scoped>\n",
       "    .dataframe tbody tr th:only-of-type {\n",
       "        vertical-align: middle;\n",
       "    }\n",
       "\n",
       "    .dataframe tbody tr th {\n",
       "        vertical-align: top;\n",
       "    }\n",
       "\n",
       "    .dataframe thead th {\n",
       "        text-align: right;\n",
       "    }\n",
       "</style>\n",
       "<table border=\"1\" class=\"dataframe\">\n",
       "  <thead>\n",
       "    <tr style=\"text-align: right;\">\n",
       "      <th></th>\n",
       "      <th>customer_unique_id</th>\n",
       "      <th>frequency</th>\n",
       "      <th>monetary</th>\n",
       "      <th>recency</th>\n",
       "    </tr>\n",
       "  </thead>\n",
       "  <tbody>\n",
       "    <tr>\n",
       "      <th>41362</th>\n",
       "      <td>6ddbc64bd04d40f7768ff088d94cbeb8</td>\n",
       "      <td>2</td>\n",
       "      <td>2108.00</td>\n",
       "      <td>141</td>\n",
       "    </tr>\n",
       "    <tr>\n",
       "      <th>95030</th>\n",
       "      <td>fd03997c82649affc061d275ddf1f3d9</td>\n",
       "      <td>2</td>\n",
       "      <td>1245.99</td>\n",
       "      <td>224</td>\n",
       "    </tr>\n",
       "    <tr>\n",
       "      <th>29478</th>\n",
       "      <td>4e6588068c000d6f539cf24c66a96816</td>\n",
       "      <td>2</td>\n",
       "      <td>929.90</td>\n",
       "      <td>191</td>\n",
       "    </tr>\n",
       "    <tr>\n",
       "      <th>65585</th>\n",
       "      <td>ae53a87a257f8e54795af6ff434e443b</td>\n",
       "      <td>2</td>\n",
       "      <td>804.63</td>\n",
       "      <td>349</td>\n",
       "    </tr>\n",
       "    <tr>\n",
       "      <th>40580</th>\n",
       "      <td>6bb535b0906b43e0041916897667aeed</td>\n",
       "      <td>2</td>\n",
       "      <td>804.48</td>\n",
       "      <td>446</td>\n",
       "    </tr>\n",
       "    <tr>\n",
       "      <th>...</th>\n",
       "      <td>...</td>\n",
       "      <td>...</td>\n",
       "      <td>...</td>\n",
       "      <td>...</td>\n",
       "    </tr>\n",
       "    <tr>\n",
       "      <th>51027</th>\n",
       "      <td>87cbc22f48d2542614a44cd025238a35</td>\n",
       "      <td>2</td>\n",
       "      <td>25.98</td>\n",
       "      <td>283</td>\n",
       "    </tr>\n",
       "    <tr>\n",
       "      <th>78476</th>\n",
       "      <td>d0af5dec42f3bf160195f5bcb704fd01</td>\n",
       "      <td>2</td>\n",
       "      <td>22.80</td>\n",
       "      <td>363</td>\n",
       "    </tr>\n",
       "    <tr>\n",
       "      <th>91949</th>\n",
       "      <td>f497dd3ee9e4ef33b42acd82713e4bf3</td>\n",
       "      <td>2</td>\n",
       "      <td>21.60</td>\n",
       "      <td>86</td>\n",
       "    </tr>\n",
       "    <tr>\n",
       "      <th>1177</th>\n",
       "      <td>031e19fc630c4121f1238716f41675c3</td>\n",
       "      <td>2</td>\n",
       "      <td>20.20</td>\n",
       "      <td>56</td>\n",
       "    </tr>\n",
       "    <tr>\n",
       "      <th>64480</th>\n",
       "      <td>ab63cccdc1367499b533e102cc9631d5</td>\n",
       "      <td>2</td>\n",
       "      <td>20.00</td>\n",
       "      <td>51</td>\n",
       "    </tr>\n",
       "  </tbody>\n",
       "</table>\n",
       "<p>264 rows × 4 columns</p>\n",
       "</div>"
      ],
      "text/plain": [
       "                     customer_unique_id  frequency  monetary  recency\n",
       "41362  6ddbc64bd04d40f7768ff088d94cbeb8          2   2108.00      141\n",
       "95030  fd03997c82649affc061d275ddf1f3d9          2   1245.99      224\n",
       "29478  4e6588068c000d6f539cf24c66a96816          2    929.90      191\n",
       "65585  ae53a87a257f8e54795af6ff434e443b          2    804.63      349\n",
       "40580  6bb535b0906b43e0041916897667aeed          2    804.48      446\n",
       "...                                 ...        ...       ...      ...\n",
       "51027  87cbc22f48d2542614a44cd025238a35          2     25.98      283\n",
       "78476  d0af5dec42f3bf160195f5bcb704fd01          2     22.80      363\n",
       "91949  f497dd3ee9e4ef33b42acd82713e4bf3          2     21.60       86\n",
       "1177   031e19fc630c4121f1238716f41675c3          2     20.20       56\n",
       "64480  ab63cccdc1367499b533e102cc9631d5          2     20.00       51\n",
       "\n",
       "[264 rows x 4 columns]"
      ]
     },
     "execution_count": 108,
     "metadata": {},
     "output_type": "execute_result"
    }
   ],
   "source": [
    "rfm.query('frequency > 1')"
   ]
  },
  {
   "cell_type": "markdown",
   "metadata": {},
   "source": [
    "Таких пользователей очень мало по сравнению с общим количеством, поэтому можно сделать вывод о том, что наши товары покупают редко."
   ]
  },
  {
   "cell_type": "code",
   "execution_count": 109,
   "metadata": {},
   "outputs": [
    {
     "data": {
      "text/plain": [
       "{'recency': {0.2: 94.0, 0.4: 179.0, 0.6: 269.0, 0.8: 384.0},\n",
       " 'frequency': {0.2: 1.0, 0.4: 1.0, 0.6: 1.0, 0.8: 1.0},\n",
       " 'monetary': {0.2: 39.0, 0.4: 68.0, 0.6: 107.0, 0.8: 176.6800000000003}}"
      ]
     },
     "execution_count": 109,
     "metadata": {},
     "output_type": "execute_result"
    }
   ],
   "source": [
    "rfm[['recency', 'frequency', 'monetary']].quantile([.2, .4, .6, .8]).to_dict()"
   ]
  },
  {
   "cell_type": "code",
   "execution_count": 110,
   "metadata": {},
   "outputs": [
    {
     "data": {
      "text/plain": [
       "count    96157.000000\n",
       "mean         1.002766\n",
       "std          0.052918\n",
       "min          1.000000\n",
       "25%          1.000000\n",
       "50%          1.000000\n",
       "75%          1.000000\n",
       "max          3.000000\n",
       "Name: frequency, dtype: float64"
      ]
     },
     "execution_count": 110,
     "metadata": {},
     "output_type": "execute_result"
    }
   ],
   "source": [
    "rfm.frequency.describe()"
   ]
  },
  {
   "cell_type": "code",
   "execution_count": 111,
   "metadata": {},
   "outputs": [
    {
     "data": {
      "text/plain": [
       "1    95893\n",
       "2      262\n",
       "3        2\n",
       "Name: frequency, dtype: int64"
      ]
     },
     "execution_count": 111,
     "metadata": {},
     "output_type": "execute_result"
    }
   ],
   "source": [
    "rfm.frequency.value_counts()"
   ]
  },
  {
   "cell_type": "markdown",
   "metadata": {},
   "source": [
    "Большинство показателей в колонке frequency приходятся на одну покупку, 262 на 2, 2 на 3.\n",
    "\n",
    "Сегментировать будем следующим образом:\n",
    "  - 1 покупка - 1-й ранг\n",
    "  - 2 покупки - 2-й ранг\n",
    "  - 3 покупки - 3-й ранг"
   ]
  },
  {
   "cell_type": "code",
   "execution_count": 112,
   "metadata": {},
   "outputs": [
    {
     "data": {
      "text/plain": [
       "count    96157.000000\n",
       "mean       238.918664\n",
       "std        152.750278\n",
       "min          0.000000\n",
       "25%        115.000000\n",
       "50%        220.000000\n",
       "75%        349.000000\n",
       "max        713.000000\n",
       "Name: recency, dtype: float64"
      ]
     },
     "execution_count": 112,
     "metadata": {},
     "output_type": "execute_result"
    }
   ],
   "source": [
    "rfm.recency.describe()"
   ]
  },
  {
   "cell_type": "code",
   "execution_count": 113,
   "metadata": {},
   "outputs": [
    {
     "data": {
      "text/plain": [
       "277    836\n",
       "278    727\n",
       "275    421\n",
       "274    397\n",
       "276    367\n",
       "      ... \n",
       "597      4\n",
       "598      4\n",
       "613      1\n",
       "695      1\n",
       "713      1\n",
       "Name: recency, Length: 613, dtype: int64"
      ]
     },
     "execution_count": 113,
     "metadata": {},
     "output_type": "execute_result"
    }
   ],
   "source": [
    "rfm.recency.value_counts()"
   ]
  },
  {
   "cell_type": "markdown",
   "metadata": {},
   "source": [
    "Посмотри на межквартильный размах по данным в данной колонке:"
   ]
  },
  {
   "cell_type": "code",
   "execution_count": 114,
   "metadata": {},
   "outputs": [
    {
     "data": {
      "text/plain": [
       "0.25    115.0\n",
       "0.50    220.0\n",
       "0.75    349.0\n",
       "Name: recency, dtype: float64"
      ]
     },
     "execution_count": 114,
     "metadata": {},
     "output_type": "execute_result"
    }
   ],
   "source": [
    "rfm.recency.quantile([.25, .50, .75])"
   ]
  },
  {
   "cell_type": "markdown",
   "metadata": {},
   "source": [
    "Recency будем сегментировать таким образом:\n",
    "   - больше 349 дней - 1-й ранг\n",
    "   - от 115 до 349 дней - 2-й ранг\n",
    "   - меньше 115 дней - 3-й ранг"
   ]
  },
  {
   "cell_type": "code",
   "execution_count": 115,
   "metadata": {},
   "outputs": [
    {
     "data": {
      "text/plain": [
       "count    96157.000000\n",
       "mean       137.412151\n",
       "std        209.473320\n",
       "min          0.850000\n",
       "25%         45.900000\n",
       "50%         86.900000\n",
       "75%        149.900000\n",
       "max      13440.000000\n",
       "Name: monetary, dtype: float64"
      ]
     },
     "execution_count": 115,
     "metadata": {},
     "output_type": "execute_result"
    }
   ],
   "source": [
    "rfm.monetary.describe()"
   ]
  },
  {
   "cell_type": "code",
   "execution_count": 116,
   "metadata": {},
   "outputs": [
    {
     "data": {
      "text/plain": [
       "59.90       1679\n",
       "69.90       1561\n",
       "49.90       1393\n",
       "89.90       1213\n",
       "99.90       1161\n",
       "            ... \n",
       "13440.00       1\n",
       "553.78         1\n",
       "194.89         1\n",
       "118.96         1\n",
       "1280.00        1\n",
       "Name: monetary, Length: 7691, dtype: int64"
      ]
     },
     "execution_count": 116,
     "metadata": {},
     "output_type": "execute_result"
    }
   ],
   "source": [
    "rfm.monetary.value_counts()"
   ]
  },
  {
   "cell_type": "code",
   "execution_count": 117,
   "metadata": {},
   "outputs": [
    {
     "data": {
      "text/plain": [
       "0.25     45.9\n",
       "0.50     86.9\n",
       "0.75    149.9\n",
       "Name: monetary, dtype: float64"
      ]
     },
     "execution_count": 117,
     "metadata": {},
     "output_type": "execute_result"
    }
   ],
   "source": [
    "rfm.monetary.quantile([.25, .50, .75])"
   ]
  },
  {
   "cell_type": "markdown",
   "metadata": {},
   "source": [
    "Здесь будем сегментировать так:\n",
    "   - меньше 45 - 1-й ранг\n",
    "   - от 86 до 150 - 2-й ранг\n",
    "   - больше 150 - 3-й ранг"
   ]
  },
  {
   "cell_type": "code",
   "execution_count": 118,
   "metadata": {},
   "outputs": [],
   "source": [
    "def r_score(x):\n",
    "    \"Функция сегментирует по трем рангам клиентов по их уникальным id в зависимости от того, сколько прошло дней от их последней покупки до сегодняшнего дня\"\n",
    "    if x < 115:\n",
    "        return 3\n",
    "    elif x > 349:\n",
    "        return 1\n",
    "    else:\n",
    "        return 2\n",
    "    \n",
    "    \n",
    "def f_score(x):\n",
    "    \"Функция сегментирует по трем рангам клиентов по их уникальным id в зависимости от того, насколько часто клиент совершал покупку\"\n",
    "    if x == 3:\n",
    "        return 3\n",
    "    elif x == 2:\n",
    "        return 2\n",
    "    elif x == 1:\n",
    "        return 1\n",
    "    \n",
    "def m_score(x):\n",
    "    \"Функция сегментирует по трем рангам клиентов по их уникальным id в зависимости от того, насколько много потратил клиент\"\n",
    "    if x < 45:\n",
    "        return 1\n",
    "    elif x > 150:\n",
    "        return 3\n",
    "    else:\n",
    "        return 2 "
   ]
  },
  {
   "cell_type": "code",
   "execution_count": 119,
   "metadata": {},
   "outputs": [],
   "source": [
    "rfm['R'] = rfm['recency'].apply(lambda x: r_score(x))\n",
    "rfm['F'] = rfm['frequency'].apply(lambda x: f_score(x))\n",
    "rfm['M'] = rfm['monetary'].apply(lambda x: m_score(x))"
   ]
  },
  {
   "cell_type": "code",
   "execution_count": 120,
   "metadata": {},
   "outputs": [
    {
     "data": {
      "text/html": [
       "<div>\n",
       "<style scoped>\n",
       "    .dataframe tbody tr th:only-of-type {\n",
       "        vertical-align: middle;\n",
       "    }\n",
       "\n",
       "    .dataframe tbody tr th {\n",
       "        vertical-align: top;\n",
       "    }\n",
       "\n",
       "    .dataframe thead th {\n",
       "        text-align: right;\n",
       "    }\n",
       "</style>\n",
       "<table border=\"1\" class=\"dataframe\">\n",
       "  <thead>\n",
       "    <tr style=\"text-align: right;\">\n",
       "      <th></th>\n",
       "      <th>customer_unique_id</th>\n",
       "      <th>frequency</th>\n",
       "      <th>monetary</th>\n",
       "      <th>recency</th>\n",
       "      <th>R</th>\n",
       "      <th>F</th>\n",
       "      <th>M</th>\n",
       "      <th>RFM Score</th>\n",
       "    </tr>\n",
       "  </thead>\n",
       "  <tbody>\n",
       "    <tr>\n",
       "      <th>3826</th>\n",
       "      <td>0a0a92112bd4c708ca5fde585afaa872</td>\n",
       "      <td>1</td>\n",
       "      <td>13440.0</td>\n",
       "      <td>333</td>\n",
       "      <td>2</td>\n",
       "      <td>1</td>\n",
       "      <td>3</td>\n",
       "      <td>213</td>\n",
       "    </tr>\n",
       "  </tbody>\n",
       "</table>\n",
       "</div>"
      ],
      "text/plain": [
       "                    customer_unique_id  frequency  monetary  recency  R  F  M  \\\n",
       "3826  0a0a92112bd4c708ca5fde585afaa872          1   13440.0      333  2  1  3   \n",
       "\n",
       "     RFM Score  \n",
       "3826       213  "
      ]
     },
     "execution_count": 120,
     "metadata": {},
     "output_type": "execute_result"
    }
   ],
   "source": [
    "rfm['RFM Score'] = rfm['R'].map(str) + rfm['F'].map(str) + rfm['M'].map(str)\n",
    "rfm.head(1)"
   ]
  },
  {
   "cell_type": "markdown",
   "metadata": {},
   "source": [
    "Присвоение заданных сегментов каждому пользователю"
   ]
  },
  {
   "cell_type": "code",
   "execution_count": 121,
   "metadata": {},
   "outputs": [
    {
     "data": {
      "text/html": [
       "<div>\n",
       "<style scoped>\n",
       "    .dataframe tbody tr th:only-of-type {\n",
       "        vertical-align: middle;\n",
       "    }\n",
       "\n",
       "    .dataframe tbody tr th {\n",
       "        vertical-align: top;\n",
       "    }\n",
       "\n",
       "    .dataframe thead th {\n",
       "        text-align: right;\n",
       "    }\n",
       "</style>\n",
       "<table border=\"1\" class=\"dataframe\">\n",
       "  <thead>\n",
       "    <tr style=\"text-align: right;\">\n",
       "      <th></th>\n",
       "      <th>customer_unique_id</th>\n",
       "      <th>frequency</th>\n",
       "      <th>monetary</th>\n",
       "      <th>recency</th>\n",
       "      <th>R</th>\n",
       "      <th>F</th>\n",
       "      <th>M</th>\n",
       "      <th>RFM Score</th>\n",
       "      <th>segment</th>\n",
       "    </tr>\n",
       "  </thead>\n",
       "  <tbody>\n",
       "    <tr>\n",
       "      <th>3826</th>\n",
       "      <td>0a0a92112bd4c708ca5fde585afaa872</td>\n",
       "      <td>1</td>\n",
       "      <td>13440.00</td>\n",
       "      <td>333</td>\n",
       "      <td>2</td>\n",
       "      <td>1</td>\n",
       "      <td>3</td>\n",
       "      <td>213</td>\n",
       "      <td>need attention</td>\n",
       "    </tr>\n",
       "    <tr>\n",
       "      <th>44459</th>\n",
       "      <td>763c8b1c9c68a0229c42c9fc6f662b93</td>\n",
       "      <td>1</td>\n",
       "      <td>7160.00</td>\n",
       "      <td>45</td>\n",
       "      <td>3</td>\n",
       "      <td>1</td>\n",
       "      <td>3</td>\n",
       "      <td>313</td>\n",
       "      <td>potential loyalists</td>\n",
       "    </tr>\n",
       "    <tr>\n",
       "      <th>82884</th>\n",
       "      <td>dc4802a71eae9be1dd28f5d788ceb526</td>\n",
       "      <td>1</td>\n",
       "      <td>6735.00</td>\n",
       "      <td>562</td>\n",
       "      <td>1</td>\n",
       "      <td>1</td>\n",
       "      <td>3</td>\n",
       "      <td>113</td>\n",
       "      <td>hibernating</td>\n",
       "    </tr>\n",
       "    <tr>\n",
       "      <th>26173</th>\n",
       "      <td>459bef486812aa25204be022145caa62</td>\n",
       "      <td>1</td>\n",
       "      <td>6729.00</td>\n",
       "      <td>34</td>\n",
       "      <td>3</td>\n",
       "      <td>1</td>\n",
       "      <td>3</td>\n",
       "      <td>313</td>\n",
       "      <td>potential loyalists</td>\n",
       "    </tr>\n",
       "    <tr>\n",
       "      <th>95878</th>\n",
       "      <td>ff4159b92c40ebe40454e3e6a7c35ed6</td>\n",
       "      <td>1</td>\n",
       "      <td>6499.00</td>\n",
       "      <td>461</td>\n",
       "      <td>1</td>\n",
       "      <td>1</td>\n",
       "      <td>3</td>\n",
       "      <td>113</td>\n",
       "      <td>hibernating</td>\n",
       "    </tr>\n",
       "    <tr>\n",
       "      <th>...</th>\n",
       "      <td>...</td>\n",
       "      <td>...</td>\n",
       "      <td>...</td>\n",
       "      <td>...</td>\n",
       "      <td>...</td>\n",
       "      <td>...</td>\n",
       "      <td>...</td>\n",
       "      <td>...</td>\n",
       "      <td>...</td>\n",
       "    </tr>\n",
       "    <tr>\n",
       "      <th>43136</th>\n",
       "      <td>728e4a7d0db4845270091ded0923c71f</td>\n",
       "      <td>1</td>\n",
       "      <td>2.90</td>\n",
       "      <td>601</td>\n",
       "      <td>1</td>\n",
       "      <td>1</td>\n",
       "      <td>1</td>\n",
       "      <td>111</td>\n",
       "      <td>hibernating</td>\n",
       "    </tr>\n",
       "    <tr>\n",
       "      <th>71117</th>\n",
       "      <td>bd06ce0e06ad77a7f681f1a4960a3cc6</td>\n",
       "      <td>1</td>\n",
       "      <td>2.29</td>\n",
       "      <td>349</td>\n",
       "      <td>2</td>\n",
       "      <td>1</td>\n",
       "      <td>1</td>\n",
       "      <td>211</td>\n",
       "      <td>need attention</td>\n",
       "    </tr>\n",
       "    <tr>\n",
       "      <th>18614</th>\n",
       "      <td>317cfc692e3f86c45c95697c61c853a6</td>\n",
       "      <td>1</td>\n",
       "      <td>2.20</td>\n",
       "      <td>3</td>\n",
       "      <td>3</td>\n",
       "      <td>1</td>\n",
       "      <td>1</td>\n",
       "      <td>311</td>\n",
       "      <td>potential loyalists</td>\n",
       "    </tr>\n",
       "    <tr>\n",
       "      <th>81279</th>\n",
       "      <td>d80730c15c647bc8f2ad77c908ba5ca9</td>\n",
       "      <td>1</td>\n",
       "      <td>0.85</td>\n",
       "      <td>127</td>\n",
       "      <td>2</td>\n",
       "      <td>1</td>\n",
       "      <td>1</td>\n",
       "      <td>211</td>\n",
       "      <td>need attention</td>\n",
       "    </tr>\n",
       "    <tr>\n",
       "      <th>67534</th>\n",
       "      <td>b38211bd797f4fdd81a98b9d1754b606</td>\n",
       "      <td>1</td>\n",
       "      <td>0.85</td>\n",
       "      <td>126</td>\n",
       "      <td>2</td>\n",
       "      <td>1</td>\n",
       "      <td>1</td>\n",
       "      <td>211</td>\n",
       "      <td>need attention</td>\n",
       "    </tr>\n",
       "  </tbody>\n",
       "</table>\n",
       "<p>96157 rows × 9 columns</p>\n",
       "</div>"
      ],
      "text/plain": [
       "                     customer_unique_id  frequency  monetary  recency  R  F  \\\n",
       "3826   0a0a92112bd4c708ca5fde585afaa872          1  13440.00      333  2  1   \n",
       "44459  763c8b1c9c68a0229c42c9fc6f662b93          1   7160.00       45  3  1   \n",
       "82884  dc4802a71eae9be1dd28f5d788ceb526          1   6735.00      562  1  1   \n",
       "26173  459bef486812aa25204be022145caa62          1   6729.00       34  3  1   \n",
       "95878  ff4159b92c40ebe40454e3e6a7c35ed6          1   6499.00      461  1  1   \n",
       "...                                 ...        ...       ...      ... .. ..   \n",
       "43136  728e4a7d0db4845270091ded0923c71f          1      2.90      601  1  1   \n",
       "71117  bd06ce0e06ad77a7f681f1a4960a3cc6          1      2.29      349  2  1   \n",
       "18614  317cfc692e3f86c45c95697c61c853a6          1      2.20        3  3  1   \n",
       "81279  d80730c15c647bc8f2ad77c908ba5ca9          1      0.85      127  2  1   \n",
       "67534  b38211bd797f4fdd81a98b9d1754b606          1      0.85      126  2  1   \n",
       "\n",
       "       M RFM Score              segment  \n",
       "3826   3       213       need attention  \n",
       "44459  3       313  potential loyalists  \n",
       "82884  3       113          hibernating  \n",
       "26173  3       313  potential loyalists  \n",
       "95878  3       113          hibernating  \n",
       "...   ..       ...                  ...  \n",
       "43136  1       111          hibernating  \n",
       "71117  1       211       need attention  \n",
       "18614  1       311  potential loyalists  \n",
       "81279  1       211       need attention  \n",
       "67534  1       211       need attention  \n",
       "\n",
       "[96157 rows x 9 columns]"
      ]
     },
     "execution_count": 121,
     "metadata": {},
     "output_type": "execute_result"
    }
   ],
   "source": [
    "segt_map = {\n",
    "    r'11': 'hibernating',\n",
    "    r'12': 'at risk',  \n",
    "    r'13': 'at risk',\n",
    "    r'21': 'need attention',\n",
    "    r'22': 'need attention',\n",
    "    r'23': 'loyal customers',\n",
    "    r'31': 'potential loyalists',\n",
    "    r'32': 'potential loyalists',\n",
    "    r'33': 'can\\'t loose them'\n",
    "}\n",
    "\n",
    "rfm['segment'] = rfm['R'].map(str) + rfm['F'].map(str)\n",
    "rfm['segment'] = rfm['segment'].replace(segt_map, regex=True)"
   ]
  },
  {
   "cell_type": "code",
   "execution_count": 123,
   "metadata": {},
   "outputs": [
    {
     "data": {
      "text/html": [
       "<div>\n",
       "<style scoped>\n",
       "    .dataframe tbody tr th:only-of-type {\n",
       "        vertical-align: middle;\n",
       "    }\n",
       "\n",
       "    .dataframe tbody tr th {\n",
       "        vertical-align: top;\n",
       "    }\n",
       "\n",
       "    .dataframe thead th {\n",
       "        text-align: right;\n",
       "    }\n",
       "</style>\n",
       "<table border=\"1\" class=\"dataframe\">\n",
       "  <thead>\n",
       "    <tr style=\"text-align: right;\">\n",
       "      <th></th>\n",
       "      <th>customer_unique_id</th>\n",
       "      <th>frequency</th>\n",
       "      <th>monetary</th>\n",
       "      <th>recency</th>\n",
       "      <th>R</th>\n",
       "      <th>F</th>\n",
       "      <th>M</th>\n",
       "      <th>RFM Score</th>\n",
       "      <th>segment</th>\n",
       "    </tr>\n",
       "  </thead>\n",
       "  <tbody>\n",
       "    <tr>\n",
       "      <th>3826</th>\n",
       "      <td>0a0a92112bd4c708ca5fde585afaa872</td>\n",
       "      <td>1</td>\n",
       "      <td>13440.0</td>\n",
       "      <td>333</td>\n",
       "      <td>2</td>\n",
       "      <td>1</td>\n",
       "      <td>3</td>\n",
       "      <td>213</td>\n",
       "      <td>need attention</td>\n",
       "    </tr>\n",
       "  </tbody>\n",
       "</table>\n",
       "</div>"
      ],
      "text/plain": [
       "                    customer_unique_id  frequency  monetary  recency  R  F  M  \\\n",
       "3826  0a0a92112bd4c708ca5fde585afaa872          1   13440.0      333  2  1  3   \n",
       "\n",
       "     RFM Score         segment  \n",
       "3826       213  need attention  "
      ]
     },
     "execution_count": 123,
     "metadata": {},
     "output_type": "execute_result"
    }
   ],
   "source": [
    "rfm.head(1)"
   ]
  },
  {
   "cell_type": "markdown",
   "metadata": {},
   "source": [
    "can't loose them - 1: 33 Те, пользователи, которые совершают покупки часто и последняя была совершена недавно.\n",
    "\n",
    "hibernating - 1: 11 Те, пользователи, которые совершили покупку очень давно и в целом очень редко покупали (не несут ценности бизнесу).\n",
    "\n",
    "potential loyalists - 2: 31, 32 Те, пользователи, у которых последняя покупка была совершена совсем недавно (новые пользователи).\n",
    "\n",
    "loyal customers - 1: 23 Пользователи в балансе, на плато (средние значения и по тому дню, когда была совершена последняя покупка и среднее по их частоте).\n",
    "\n",
    "at risk - 2: 12, 13 Пользователи, которые покупали часто, но последняя покупка была совершена очень давно.\n",
    "\n",
    "need attention - 2: 21, 22 В поведении пользователей прослеживается вариативность, кто-то редко покупает, но является новым пользователем, а кто-то часто покупает но последняя покупка осуществлена давно (за их поведением стоит понаблюдать). "
   ]
  },
  {
   "cell_type": "code",
   "execution_count": 124,
   "metadata": {},
   "outputs": [
    {
     "data": {
      "text/html": [
       "<div>\n",
       "<style scoped>\n",
       "    .dataframe tbody tr th:only-of-type {\n",
       "        vertical-align: middle;\n",
       "    }\n",
       "\n",
       "    .dataframe tbody tr th {\n",
       "        vertical-align: top;\n",
       "    }\n",
       "\n",
       "    .dataframe thead th {\n",
       "        text-align: right;\n",
       "    }\n",
       "</style>\n",
       "<table border=\"1\" class=\"dataframe\">\n",
       "  <thead>\n",
       "    <tr style=\"text-align: right;\">\n",
       "      <th></th>\n",
       "      <th>customer_unique_id</th>\n",
       "    </tr>\n",
       "    <tr>\n",
       "      <th>segment</th>\n",
       "      <th></th>\n",
       "    </tr>\n",
       "  </thead>\n",
       "  <tbody>\n",
       "    <tr>\n",
       "      <th>can't loose them</th>\n",
       "      <td>1</td>\n",
       "    </tr>\n",
       "    <tr>\n",
       "      <th>loyal customers</th>\n",
       "      <td>1</td>\n",
       "    </tr>\n",
       "    <tr>\n",
       "      <th>at risk</th>\n",
       "      <td>91</td>\n",
       "    </tr>\n",
       "    <tr>\n",
       "      <th>hibernating</th>\n",
       "      <td>23761</td>\n",
       "    </tr>\n",
       "    <tr>\n",
       "      <th>potential loyalists</th>\n",
       "      <td>23927</td>\n",
       "    </tr>\n",
       "    <tr>\n",
       "      <th>need attention</th>\n",
       "      <td>48376</td>\n",
       "    </tr>\n",
       "  </tbody>\n",
       "</table>\n",
       "</div>"
      ],
      "text/plain": [
       "                     customer_unique_id\n",
       "segment                                \n",
       "can't loose them                      1\n",
       "loyal customers                       1\n",
       "at risk                              91\n",
       "hibernating                       23761\n",
       "potential loyalists               23927\n",
       "need attention                    48376"
      ]
     },
     "execution_count": 124,
     "metadata": {},
     "output_type": "execute_result"
    }
   ],
   "source": [
    "rfm.groupby('segment').agg({'customer_unique_id':'count'}).sort_values('customer_unique_id')"
   ]
  },
  {
   "cell_type": "code",
   "execution_count": 126,
   "metadata": {},
   "outputs": [
    {
     "data": {
      "image/png": "[encoded data removed]",
      "text/plain": [
       "<Figure size 1152x648 with 1 Axes>"
      ]
     },
     "metadata": {},
     "output_type": "display_data"
    }
   ],
   "source": [
    "segments_counts = rfm['segment'].value_counts().sort_values(ascending=True)\n",
    "\n",
    "fig, ax = plt.subplots()\n",
    "\n",
    "bars = ax.barh(range(len(segments_counts)),\n",
    "              segments_counts,\n",
    "              color='silver')\n",
    "ax.set_frame_on(False)\n",
    "ax.tick_params(left=False,\n",
    "               bottom=False,\n",
    "               labelbottom=False)\n",
    "ax.set_yticks(range(len(segments_counts)))\n",
    "ax.set_yticklabels(segments_counts.index)\n",
    "\n",
    "for i, bar in enumerate(bars):\n",
    "        value = bar.get_width()\n",
    "        if segments_counts.index[i] in ['can\\'t loose them', 'loyal customers']:\n",
    "            bar.set_color('darksalmon')\n",
    "        ax.text(value,\n",
    "                bar.get_y() + bar.get_height()/2,\n",
    "                '{:,} ({:}%)'.format(int(value),\n",
    "                                   int(value*100/segments_counts.sum())),\n",
    "                va='center',\n",
    "                ha='left'\n",
    "               )\n",
    "\n",
    "plt.show()"
   ]
  },
  {
   "cell_type": "markdown",
   "metadata": {},
   "source": [
    "Выводы:\n",
    "После проведения сегментации видно, что высок процент потенциальных лояльных пользователей, поэтому можно предположить, что последняя рекламная компания имела успех и привлекла множество новых клиентов, но в тоже время мы понимаем, что больше половины всех пользователей это те, кто либо редко покупают, либо их покупка была совершено давно, из чего можно сделать вывод о том, мы скорее всего продаем товары, которые не нужны часто.\n",
    "\n",
    "Острых проблем у бизнеса нет, рекламная компания справляется со своей целью, в качестве предложения по укреплению коэффициента удержания пользователей (CRR), можно добавить бонусную программу, а также, если это все-таки тот товар, который пользователи покупают редко (например ноутбуки, телефоны, компьютеры), то разработать программы лояльностей (например, ценностные - только для своих), которые замотивируют вернуться в этот же магазин через долгий промежуток времени, а вдобавок возвращаться чаще за аксессуарами для уже приобретенных единиц, в результате повысятся многие метрики (например, LTV, средний чек, NPS)."
   ]
  },
  {
   "cell_type": "code",
   "execution_count": 127,
   "metadata": {},
   "outputs": [],
   "source": [
    "#checks.query('student_id not in @active_studs.student_id').shape[0]"
   ]
  },
  {
   "cell_type": "code",
   "execution_count": null,
   "metadata": {},
   "outputs": [],
   "source": []
  }
 ],
 "metadata": {
  "kernelspec": {
   "display_name": "Python 3",
   "language": "python",
   "name": "python3"
  },
  "language_info": {
   "codemirror_mode": {
    "name": "ipython",
    "version": 3
   },
   "file_extension": ".py",
   "mimetype": "text/x-python",
   "name": "python",
   "nbconvert_exporter": "python",
   "pygments_lexer": "ipython3",
   "version": "3.7.3"
  }
 },
 "nbformat": 4,
 "nbformat_minor": 4
}
